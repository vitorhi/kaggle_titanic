{
 "cells": [
  {
   "cell_type": "code",
   "execution_count": 199,
   "metadata": {},
   "outputs": [],
   "source": [
    "import pandas as pd\n",
    "import numpy as np\n",
    "import seaborn as sns\n",
    "import matplotlib.pyplot as plt\n",
    "%matplotlib inline\n",
    "sns.set()"
   ]
  },
  {
   "cell_type": "code",
   "execution_count": 200,
   "metadata": {},
   "outputs": [],
   "source": [
    "df=pd.read_csv('train.csv')\n",
    "df_test=pd.read_csv('test.csv')"
   ]
  },
  {
   "cell_type": "code",
   "execution_count": 201,
   "metadata": {},
   "outputs": [
    {
     "data": {
      "text/html": [
       "<div>\n",
       "<style scoped>\n",
       "    .dataframe tbody tr th:only-of-type {\n",
       "        vertical-align: middle;\n",
       "    }\n",
       "\n",
       "    .dataframe tbody tr th {\n",
       "        vertical-align: top;\n",
       "    }\n",
       "\n",
       "    .dataframe thead th {\n",
       "        text-align: right;\n",
       "    }\n",
       "</style>\n",
       "<table border=\"1\" class=\"dataframe\">\n",
       "  <thead>\n",
       "    <tr style=\"text-align: right;\">\n",
       "      <th></th>\n",
       "      <th>PassengerId</th>\n",
       "      <th>Survived</th>\n",
       "      <th>Pclass</th>\n",
       "      <th>Name</th>\n",
       "      <th>Sex</th>\n",
       "      <th>Age</th>\n",
       "      <th>SibSp</th>\n",
       "      <th>Parch</th>\n",
       "      <th>Ticket</th>\n",
       "      <th>Fare</th>\n",
       "      <th>Cabin</th>\n",
       "      <th>Embarked</th>\n",
       "    </tr>\n",
       "  </thead>\n",
       "  <tbody>\n",
       "    <tr>\n",
       "      <th>0</th>\n",
       "      <td>1</td>\n",
       "      <td>0</td>\n",
       "      <td>3</td>\n",
       "      <td>Braund, Mr. Owen Harris</td>\n",
       "      <td>male</td>\n",
       "      <td>22.0</td>\n",
       "      <td>1</td>\n",
       "      <td>0</td>\n",
       "      <td>A/5 21171</td>\n",
       "      <td>7.2500</td>\n",
       "      <td>NaN</td>\n",
       "      <td>S</td>\n",
       "    </tr>\n",
       "    <tr>\n",
       "      <th>1</th>\n",
       "      <td>2</td>\n",
       "      <td>1</td>\n",
       "      <td>1</td>\n",
       "      <td>Cumings, Mrs. John Bradley (Florence Briggs Th...</td>\n",
       "      <td>female</td>\n",
       "      <td>38.0</td>\n",
       "      <td>1</td>\n",
       "      <td>0</td>\n",
       "      <td>PC 17599</td>\n",
       "      <td>71.2833</td>\n",
       "      <td>C85</td>\n",
       "      <td>C</td>\n",
       "    </tr>\n",
       "    <tr>\n",
       "      <th>2</th>\n",
       "      <td>3</td>\n",
       "      <td>1</td>\n",
       "      <td>3</td>\n",
       "      <td>Heikkinen, Miss. Laina</td>\n",
       "      <td>female</td>\n",
       "      <td>26.0</td>\n",
       "      <td>0</td>\n",
       "      <td>0</td>\n",
       "      <td>STON/O2. 3101282</td>\n",
       "      <td>7.9250</td>\n",
       "      <td>NaN</td>\n",
       "      <td>S</td>\n",
       "    </tr>\n",
       "    <tr>\n",
       "      <th>3</th>\n",
       "      <td>4</td>\n",
       "      <td>1</td>\n",
       "      <td>1</td>\n",
       "      <td>Futrelle, Mrs. Jacques Heath (Lily May Peel)</td>\n",
       "      <td>female</td>\n",
       "      <td>35.0</td>\n",
       "      <td>1</td>\n",
       "      <td>0</td>\n",
       "      <td>113803</td>\n",
       "      <td>53.1000</td>\n",
       "      <td>C123</td>\n",
       "      <td>S</td>\n",
       "    </tr>\n",
       "    <tr>\n",
       "      <th>4</th>\n",
       "      <td>5</td>\n",
       "      <td>0</td>\n",
       "      <td>3</td>\n",
       "      <td>Allen, Mr. William Henry</td>\n",
       "      <td>male</td>\n",
       "      <td>35.0</td>\n",
       "      <td>0</td>\n",
       "      <td>0</td>\n",
       "      <td>373450</td>\n",
       "      <td>8.0500</td>\n",
       "      <td>NaN</td>\n",
       "      <td>S</td>\n",
       "    </tr>\n",
       "  </tbody>\n",
       "</table>\n",
       "</div>"
      ],
      "text/plain": [
       "   PassengerId  Survived  Pclass  \\\n",
       "0            1         0       3   \n",
       "1            2         1       1   \n",
       "2            3         1       3   \n",
       "3            4         1       1   \n",
       "4            5         0       3   \n",
       "\n",
       "                                                Name     Sex   Age  SibSp  \\\n",
       "0                            Braund, Mr. Owen Harris    male  22.0      1   \n",
       "1  Cumings, Mrs. John Bradley (Florence Briggs Th...  female  38.0      1   \n",
       "2                             Heikkinen, Miss. Laina  female  26.0      0   \n",
       "3       Futrelle, Mrs. Jacques Heath (Lily May Peel)  female  35.0      1   \n",
       "4                           Allen, Mr. William Henry    male  35.0      0   \n",
       "\n",
       "   Parch            Ticket     Fare Cabin Embarked  \n",
       "0      0         A/5 21171   7.2500   NaN        S  \n",
       "1      0          PC 17599  71.2833   C85        C  \n",
       "2      0  STON/O2. 3101282   7.9250   NaN        S  \n",
       "3      0            113803  53.1000  C123        S  \n",
       "4      0            373450   8.0500   NaN        S  "
      ]
     },
     "execution_count": 201,
     "metadata": {},
     "output_type": "execute_result"
    }
   ],
   "source": [
    "df.head()"
   ]
  },
  {
   "cell_type": "code",
   "execution_count": 202,
   "metadata": {},
   "outputs": [
    {
     "data": {
      "text/plain": [
       "<seaborn.axisgrid.PairGrid at 0x7f6df6e5a890>"
      ]
     },
     "execution_count": 202,
     "metadata": {},
     "output_type": "execute_result"
    },
    {
     "data": {
      "image/png": "[encoded data removed]",
      "text/plain": [
       "<Figure size 1080x1080 with 42 Axes>"
      ]
     },
     "metadata": {},
     "output_type": "display_data"
    }
   ],
   "source": [
    "sns.pairplot(df.drop('PassengerId',axis=1))"
   ]
  },
  {
   "cell_type": "code",
   "execution_count": 203,
   "metadata": {},
   "outputs": [
    {
     "name": "stdout",
     "output_type": "stream",
     "text": [
      "<class 'pandas.core.frame.DataFrame'>\n",
      "RangeIndex: 891 entries, 0 to 890\n",
      "Data columns (total 12 columns):\n",
      " #   Column       Non-Null Count  Dtype  \n",
      "---  ------       --------------  -----  \n",
      " 0   PassengerId  891 non-null    int64  \n",
      " 1   Survived     891 non-null    int64  \n",
      " 2   Pclass       891 non-null    int64  \n",
      " 3   Name         891 non-null    object \n",
      " 4   Sex          891 non-null    object \n",
      " 5   Age          714 non-null    float64\n",
      " 6   SibSp        891 non-null    int64  \n",
      " 7   Parch        891 non-null    int64  \n",
      " 8   Ticket       891 non-null    object \n",
      " 9   Fare         891 non-null    float64\n",
      " 10  Cabin        204 non-null    object \n",
      " 11  Embarked     889 non-null    object \n",
      "dtypes: float64(2), int64(5), object(5)\n",
      "memory usage: 83.7+ KB\n"
     ]
    }
   ],
   "source": [
    "df.info()"
   ]
  },
  {
   "cell_type": "code",
   "execution_count": 204,
   "metadata": {},
   "outputs": [
    {
     "data": {
      "text/html": [
       "<div>\n",
       "<style scoped>\n",
       "    .dataframe tbody tr th:only-of-type {\n",
       "        vertical-align: middle;\n",
       "    }\n",
       "\n",
       "    .dataframe tbody tr th {\n",
       "        vertical-align: top;\n",
       "    }\n",
       "\n",
       "    .dataframe thead th {\n",
       "        text-align: right;\n",
       "    }\n",
       "</style>\n",
       "<table border=\"1\" class=\"dataframe\">\n",
       "  <thead>\n",
       "    <tr style=\"text-align: right;\">\n",
       "      <th></th>\n",
       "      <th>count</th>\n",
       "      <th>mean</th>\n",
       "      <th>std</th>\n",
       "      <th>min</th>\n",
       "      <th>25%</th>\n",
       "      <th>50%</th>\n",
       "      <th>75%</th>\n",
       "      <th>max</th>\n",
       "    </tr>\n",
       "  </thead>\n",
       "  <tbody>\n",
       "    <tr>\n",
       "      <th>PassengerId</th>\n",
       "      <td>891.0</td>\n",
       "      <td>446.000000</td>\n",
       "      <td>257.353842</td>\n",
       "      <td>1.00</td>\n",
       "      <td>223.5000</td>\n",
       "      <td>446.0000</td>\n",
       "      <td>668.5</td>\n",
       "      <td>891.0000</td>\n",
       "    </tr>\n",
       "    <tr>\n",
       "      <th>Survived</th>\n",
       "      <td>891.0</td>\n",
       "      <td>0.383838</td>\n",
       "      <td>0.486592</td>\n",
       "      <td>0.00</td>\n",
       "      <td>0.0000</td>\n",
       "      <td>0.0000</td>\n",
       "      <td>1.0</td>\n",
       "      <td>1.0000</td>\n",
       "    </tr>\n",
       "    <tr>\n",
       "      <th>Pclass</th>\n",
       "      <td>891.0</td>\n",
       "      <td>2.308642</td>\n",
       "      <td>0.836071</td>\n",
       "      <td>1.00</td>\n",
       "      <td>2.0000</td>\n",
       "      <td>3.0000</td>\n",
       "      <td>3.0</td>\n",
       "      <td>3.0000</td>\n",
       "    </tr>\n",
       "    <tr>\n",
       "      <th>Age</th>\n",
       "      <td>714.0</td>\n",
       "      <td>29.699118</td>\n",
       "      <td>14.526497</td>\n",
       "      <td>0.42</td>\n",
       "      <td>20.1250</td>\n",
       "      <td>28.0000</td>\n",
       "      <td>38.0</td>\n",
       "      <td>80.0000</td>\n",
       "    </tr>\n",
       "    <tr>\n",
       "      <th>SibSp</th>\n",
       "      <td>891.0</td>\n",
       "      <td>0.523008</td>\n",
       "      <td>1.102743</td>\n",
       "      <td>0.00</td>\n",
       "      <td>0.0000</td>\n",
       "      <td>0.0000</td>\n",
       "      <td>1.0</td>\n",
       "      <td>8.0000</td>\n",
       "    </tr>\n",
       "    <tr>\n",
       "      <th>Parch</th>\n",
       "      <td>891.0</td>\n",
       "      <td>0.381594</td>\n",
       "      <td>0.806057</td>\n",
       "      <td>0.00</td>\n",
       "      <td>0.0000</td>\n",
       "      <td>0.0000</td>\n",
       "      <td>0.0</td>\n",
       "      <td>6.0000</td>\n",
       "    </tr>\n",
       "    <tr>\n",
       "      <th>Fare</th>\n",
       "      <td>891.0</td>\n",
       "      <td>32.204208</td>\n",
       "      <td>49.693429</td>\n",
       "      <td>0.00</td>\n",
       "      <td>7.9104</td>\n",
       "      <td>14.4542</td>\n",
       "      <td>31.0</td>\n",
       "      <td>512.3292</td>\n",
       "    </tr>\n",
       "  </tbody>\n",
       "</table>\n",
       "</div>"
      ],
      "text/plain": [
       "             count        mean         std   min       25%       50%    75%  \\\n",
       "PassengerId  891.0  446.000000  257.353842  1.00  223.5000  446.0000  668.5   \n",
       "Survived     891.0    0.383838    0.486592  0.00    0.0000    0.0000    1.0   \n",
       "Pclass       891.0    2.308642    0.836071  1.00    2.0000    3.0000    3.0   \n",
       "Age          714.0   29.699118   14.526497  0.42   20.1250   28.0000   38.0   \n",
       "SibSp        891.0    0.523008    1.102743  0.00    0.0000    0.0000    1.0   \n",
       "Parch        891.0    0.381594    0.806057  0.00    0.0000    0.0000    0.0   \n",
       "Fare         891.0   32.204208   49.693429  0.00    7.9104   14.4542   31.0   \n",
       "\n",
       "                  max  \n",
       "PassengerId  891.0000  \n",
       "Survived       1.0000  \n",
       "Pclass         3.0000  \n",
       "Age           80.0000  \n",
       "SibSp          8.0000  \n",
       "Parch          6.0000  \n",
       "Fare         512.3292  "
      ]
     },
     "execution_count": 204,
     "metadata": {},
     "output_type": "execute_result"
    }
   ],
   "source": [
    "df.describe().transpose()"
   ]
  },
  {
   "cell_type": "code",
   "execution_count": 205,
   "metadata": {},
   "outputs": [
    {
     "data": {
      "text/plain": [
       "<matplotlib.axes._subplots.AxesSubplot at 0x7f6df6202e50>"
      ]
     },
     "execution_count": 205,
     "metadata": {},
     "output_type": "execute_result"
    },
    {
     "data": {
      "image/png": "[encoded data removed]",
      "text/plain": [
       "<Figure size 432x288 with 2 Axes>"
      ]
     },
     "metadata": {},
     "output_type": "display_data"
    }
   ],
   "source": [
    "sns.heatmap(df.isnull())"
   ]
  },
  {
   "cell_type": "code",
   "execution_count": 206,
   "metadata": {},
   "outputs": [
    {
     "data": {
      "text/plain": [
       "PassengerId     0.000000\n",
       "Survived        0.000000\n",
       "Pclass          0.000000\n",
       "Name            0.000000\n",
       "Sex             0.000000\n",
       "Age            19.865320\n",
       "SibSp           0.000000\n",
       "Parch           0.000000\n",
       "Ticket          0.000000\n",
       "Fare            0.000000\n",
       "Cabin          77.104377\n",
       "Embarked        0.224467\n",
       "dtype: float64"
      ]
     },
     "execution_count": 206,
     "metadata": {},
     "output_type": "execute_result"
    }
   ],
   "source": [
    "#Pencentage of missing values in the dataframe\n",
    "(df.isnull().sum()*100)/df.shape[0]"
   ]
  },
  {
   "cell_type": "code",
   "execution_count": 207,
   "metadata": {},
   "outputs": [],
   "source": [
    "#Cabin has to much missing information. I find that dropping it will be better\n",
    "df.drop('Cabin',axis=1,inplace=True)\n",
    "\n",
    "#Doing the same for test dataset\n",
    "df_test.drop('Cabin',axis=1,inplace=True)"
   ]
  },
  {
   "cell_type": "code",
   "execution_count": 208,
   "metadata": {},
   "outputs": [],
   "source": [
    "df['Last Name']=df['Name'].apply(lambda name:name.split(',')[0])"
   ]
  },
  {
   "cell_type": "code",
   "execution_count": 209,
   "metadata": {},
   "outputs": [
    {
     "data": {
      "text/html": [
       "<div>\n",
       "<style scoped>\n",
       "    .dataframe tbody tr th:only-of-type {\n",
       "        vertical-align: middle;\n",
       "    }\n",
       "\n",
       "    .dataframe tbody tr th {\n",
       "        vertical-align: top;\n",
       "    }\n",
       "\n",
       "    .dataframe thead th {\n",
       "        text-align: right;\n",
       "    }\n",
       "</style>\n",
       "<table border=\"1\" class=\"dataframe\">\n",
       "  <thead>\n",
       "    <tr style=\"text-align: right;\">\n",
       "      <th></th>\n",
       "      <th>PassengerId</th>\n",
       "      <th>Survived</th>\n",
       "      <th>Pclass</th>\n",
       "      <th>Name</th>\n",
       "      <th>Sex</th>\n",
       "      <th>Age</th>\n",
       "      <th>SibSp</th>\n",
       "      <th>Parch</th>\n",
       "      <th>Ticket</th>\n",
       "      <th>Fare</th>\n",
       "      <th>Embarked</th>\n",
       "      <th>Last Name</th>\n",
       "    </tr>\n",
       "  </thead>\n",
       "  <tbody>\n",
       "    <tr>\n",
       "      <th>308</th>\n",
       "      <td>309</td>\n",
       "      <td>0</td>\n",
       "      <td>2</td>\n",
       "      <td>Abelson, Mr. Samuel</td>\n",
       "      <td>male</td>\n",
       "      <td>30.0</td>\n",
       "      <td>1</td>\n",
       "      <td>0</td>\n",
       "      <td>P/PP 3381</td>\n",
       "      <td>24.0</td>\n",
       "      <td>C</td>\n",
       "      <td>Abelson</td>\n",
       "    </tr>\n",
       "    <tr>\n",
       "      <th>874</th>\n",
       "      <td>875</td>\n",
       "      <td>1</td>\n",
       "      <td>2</td>\n",
       "      <td>Abelson, Mrs. Samuel (Hannah Wizosky)</td>\n",
       "      <td>female</td>\n",
       "      <td>28.0</td>\n",
       "      <td>1</td>\n",
       "      <td>0</td>\n",
       "      <td>P/PP 3381</td>\n",
       "      <td>24.0</td>\n",
       "      <td>C</td>\n",
       "      <td>Abelson</td>\n",
       "    </tr>\n",
       "  </tbody>\n",
       "</table>\n",
       "</div>"
      ],
      "text/plain": [
       "     PassengerId  Survived  Pclass                                   Name  \\\n",
       "308          309         0       2                    Abelson, Mr. Samuel   \n",
       "874          875         1       2  Abelson, Mrs. Samuel (Hannah Wizosky)   \n",
       "\n",
       "        Sex   Age  SibSp  Parch     Ticket  Fare Embarked Last Name  \n",
       "308    male  30.0      1      0  P/PP 3381  24.0        C   Abelson  \n",
       "874  female  28.0      1      0  P/PP 3381  24.0        C   Abelson  "
      ]
     },
     "execution_count": 209,
     "metadata": {},
     "output_type": "execute_result"
    }
   ],
   "source": [
    "df[df['Last Name']=='Abelson']"
   ]
  },
  {
   "cell_type": "code",
   "execution_count": 210,
   "metadata": {},
   "outputs": [],
   "source": [
    "family_survival=df.groupby('Last Name')[['Survived']].sum()"
   ]
  },
  {
   "cell_type": "code",
   "execution_count": 211,
   "metadata": {},
   "outputs": [
    {
     "data": {
      "text/html": [
       "<div>\n",
       "<style scoped>\n",
       "    .dataframe tbody tr th:only-of-type {\n",
       "        vertical-align: middle;\n",
       "    }\n",
       "\n",
       "    .dataframe tbody tr th {\n",
       "        vertical-align: top;\n",
       "    }\n",
       "\n",
       "    .dataframe thead th {\n",
       "        text-align: right;\n",
       "    }\n",
       "</style>\n",
       "<table border=\"1\" class=\"dataframe\">\n",
       "  <thead>\n",
       "    <tr style=\"text-align: right;\">\n",
       "      <th></th>\n",
       "      <th>Survived</th>\n",
       "    </tr>\n",
       "    <tr>\n",
       "      <th>Last Name</th>\n",
       "      <th></th>\n",
       "    </tr>\n",
       "  </thead>\n",
       "  <tbody>\n",
       "    <tr>\n",
       "      <th>Abbing</th>\n",
       "      <td>0</td>\n",
       "    </tr>\n",
       "    <tr>\n",
       "      <th>Abbott</th>\n",
       "      <td>1</td>\n",
       "    </tr>\n",
       "    <tr>\n",
       "      <th>Abelson</th>\n",
       "      <td>1</td>\n",
       "    </tr>\n",
       "    <tr>\n",
       "      <th>Adahl</th>\n",
       "      <td>0</td>\n",
       "    </tr>\n",
       "    <tr>\n",
       "      <th>Adams</th>\n",
       "      <td>0</td>\n",
       "    </tr>\n",
       "    <tr>\n",
       "      <th>...</th>\n",
       "      <td>...</td>\n",
       "    </tr>\n",
       "    <tr>\n",
       "      <th>de Mulder</th>\n",
       "      <td>1</td>\n",
       "    </tr>\n",
       "    <tr>\n",
       "      <th>de Pelsmaeker</th>\n",
       "      <td>0</td>\n",
       "    </tr>\n",
       "    <tr>\n",
       "      <th>del Carlo</th>\n",
       "      <td>0</td>\n",
       "    </tr>\n",
       "    <tr>\n",
       "      <th>van Billiard</th>\n",
       "      <td>0</td>\n",
       "    </tr>\n",
       "    <tr>\n",
       "      <th>van Melkebeke</th>\n",
       "      <td>0</td>\n",
       "    </tr>\n",
       "  </tbody>\n",
       "</table>\n",
       "<p>667 rows × 1 columns</p>\n",
       "</div>"
      ],
      "text/plain": [
       "               Survived\n",
       "Last Name              \n",
       "Abbing                0\n",
       "Abbott                1\n",
       "Abelson               1\n",
       "Adahl                 0\n",
       "Adams                 0\n",
       "...                 ...\n",
       "de Mulder             1\n",
       "de Pelsmaeker         0\n",
       "del Carlo             0\n",
       "van Billiard          0\n",
       "van Melkebeke         0\n",
       "\n",
       "[667 rows x 1 columns]"
      ]
     },
     "execution_count": 211,
     "metadata": {},
     "output_type": "execute_result"
    }
   ],
   "source": [
    "family_survival"
   ]
  },
  {
   "cell_type": "code",
   "execution_count": 212,
   "metadata": {},
   "outputs": [],
   "source": [
    "family_survival['number of people']=df.groupby('Last Name').count()['PassengerId']"
   ]
  },
  {
   "cell_type": "code",
   "execution_count": 213,
   "metadata": {},
   "outputs": [],
   "source": [
    "family_survival['ratio survived']=family_survival['Survived']/family_survival['number of people']"
   ]
  },
  {
   "cell_type": "code",
   "execution_count": 214,
   "metadata": {},
   "outputs": [
    {
     "data": {
      "text/html": [
       "<div>\n",
       "<style scoped>\n",
       "    .dataframe tbody tr th:only-of-type {\n",
       "        vertical-align: middle;\n",
       "    }\n",
       "\n",
       "    .dataframe tbody tr th {\n",
       "        vertical-align: top;\n",
       "    }\n",
       "\n",
       "    .dataframe thead th {\n",
       "        text-align: right;\n",
       "    }\n",
       "</style>\n",
       "<table border=\"1\" class=\"dataframe\">\n",
       "  <thead>\n",
       "    <tr style=\"text-align: right;\">\n",
       "      <th></th>\n",
       "      <th>Survived</th>\n",
       "      <th>number of people</th>\n",
       "      <th>ratio survived</th>\n",
       "    </tr>\n",
       "    <tr>\n",
       "      <th>Last Name</th>\n",
       "      <th></th>\n",
       "      <th></th>\n",
       "      <th></th>\n",
       "    </tr>\n",
       "  </thead>\n",
       "  <tbody>\n",
       "    <tr>\n",
       "      <th>Abbing</th>\n",
       "      <td>0</td>\n",
       "      <td>1</td>\n",
       "      <td>0.0</td>\n",
       "    </tr>\n",
       "    <tr>\n",
       "      <th>Abbott</th>\n",
       "      <td>1</td>\n",
       "      <td>2</td>\n",
       "      <td>0.5</td>\n",
       "    </tr>\n",
       "    <tr>\n",
       "      <th>Abelson</th>\n",
       "      <td>1</td>\n",
       "      <td>2</td>\n",
       "      <td>0.5</td>\n",
       "    </tr>\n",
       "    <tr>\n",
       "      <th>Adahl</th>\n",
       "      <td>0</td>\n",
       "      <td>1</td>\n",
       "      <td>0.0</td>\n",
       "    </tr>\n",
       "    <tr>\n",
       "      <th>Adams</th>\n",
       "      <td>0</td>\n",
       "      <td>1</td>\n",
       "      <td>0.0</td>\n",
       "    </tr>\n",
       "  </tbody>\n",
       "</table>\n",
       "</div>"
      ],
      "text/plain": [
       "           Survived  number of people  ratio survived\n",
       "Last Name                                            \n",
       "Abbing            0                 1             0.0\n",
       "Abbott            1                 2             0.5\n",
       "Abelson           1                 2             0.5\n",
       "Adahl             0                 1             0.0\n",
       "Adams             0                 1             0.0"
      ]
     },
     "execution_count": 214,
     "metadata": {},
     "output_type": "execute_result"
    }
   ],
   "source": [
    "family_survival.head()"
   ]
  },
  {
   "cell_type": "code",
   "execution_count": 215,
   "metadata": {},
   "outputs": [
    {
     "data": {
      "text/plain": [
       "1    534\n",
       "2     83\n",
       "3     28\n",
       "4     14\n",
       "6      5\n",
       "9      1\n",
       "7      1\n",
       "5      1\n",
       "Name: number of people, dtype: int64"
      ]
     },
     "execution_count": 215,
     "metadata": {},
     "output_type": "execute_result"
    }
   ],
   "source": [
    "family_survival['number of people'].value_counts()"
   ]
  },
  {
   "cell_type": "code",
   "execution_count": 216,
   "metadata": {},
   "outputs": [
    {
     "data": {
      "text/plain": [
       "<matplotlib.axes._subplots.AxesSubplot at 0x7f6df6e59ed0>"
      ]
     },
     "execution_count": 216,
     "metadata": {},
     "output_type": "execute_result"
    },
    {
     "data": {
      "image/png": "[encoded data removed]",
      "text/plain": [
       "<Figure size 432x288 with 1 Axes>"
      ]
     },
     "metadata": {},
     "output_type": "display_data"
    }
   ],
   "source": [
    "sns.boxplot(x='number of people',y='ratio survived', data=family_survival)"
   ]
  },
  {
   "cell_type": "code",
   "execution_count": 217,
   "metadata": {},
   "outputs": [
    {
     "data": {
      "text/plain": [
       "<matplotlib.axes._subplots.AxesSubplot at 0x7f6df555e950>"
      ]
     },
     "execution_count": 217,
     "metadata": {},
     "output_type": "execute_result"
    },
    {
     "data": {
      "image/png": "[encoded data removed]",
      "text/plain": [
       "<Figure size 432x288 with 1 Axes>"
      ]
     },
     "metadata": {},
     "output_type": "display_data"
    }
   ],
   "source": [
    "sns.scatterplot(x='Age',y='Fare',data=df)"
   ]
  },
  {
   "cell_type": "code",
   "execution_count": 218,
   "metadata": {},
   "outputs": [
    {
     "data": {
      "text/plain": [
       "<seaborn.axisgrid.FacetGrid at 0x7f6df565ce90>"
      ]
     },
     "execution_count": 218,
     "metadata": {},
     "output_type": "execute_result"
    },
    {
     "data": {
      "image/png": "[encoded data removed]",
      "text/plain": [
       "<Figure size 648x216 with 3 Axes>"
      ]
     },
     "metadata": {},
     "output_type": "display_data"
    }
   ],
   "source": [
    "g=sns.FacetGrid(df,col='Pclass')\n",
    "g.map(plt.hist,'Age',bins=50)"
   ]
  },
  {
   "cell_type": "code",
   "execution_count": 219,
   "metadata": {},
   "outputs": [
    {
     "data": {
      "text/plain": [
       "0         Mr\n",
       "1        Mrs\n",
       "2       Miss\n",
       "3        Mrs\n",
       "4         Mr\n",
       "       ...  \n",
       "886      Rev\n",
       "887     Miss\n",
       "888     Miss\n",
       "889       Mr\n",
       "890       Mr\n",
       "Name: Name, Length: 891, dtype: object"
      ]
     },
     "execution_count": 219,
     "metadata": {},
     "output_type": "execute_result"
    }
   ],
   "source": [
    "df['Name'].apply(lambda name:name.split(',')[1].split('.')[0])"
   ]
  },
  {
   "cell_type": "code",
   "execution_count": 220,
   "metadata": {},
   "outputs": [],
   "source": [
    "df['title name']=df['Name'].apply(lambda name:name.split(',')[1].split('.')[0])"
   ]
  },
  {
   "cell_type": "code",
   "execution_count": 221,
   "metadata": {},
   "outputs": [],
   "source": [
    "other_titles=df['title name'].value_counts().index[4:].values"
   ]
  },
  {
   "cell_type": "code",
   "execution_count": 222,
   "metadata": {},
   "outputs": [
    {
     "data": {
      "text/html": [
       "<div>\n",
       "<style scoped>\n",
       "    .dataframe tbody tr th:only-of-type {\n",
       "        vertical-align: middle;\n",
       "    }\n",
       "\n",
       "    .dataframe tbody tr th {\n",
       "        vertical-align: top;\n",
       "    }\n",
       "\n",
       "    .dataframe thead th {\n",
       "        text-align: right;\n",
       "    }\n",
       "</style>\n",
       "<table border=\"1\" class=\"dataframe\">\n",
       "  <thead>\n",
       "    <tr style=\"text-align: right;\">\n",
       "      <th></th>\n",
       "      <th>count</th>\n",
       "      <th>mean</th>\n",
       "      <th>std</th>\n",
       "      <th>min</th>\n",
       "      <th>25%</th>\n",
       "      <th>50%</th>\n",
       "      <th>75%</th>\n",
       "      <th>max</th>\n",
       "    </tr>\n",
       "    <tr>\n",
       "      <th>title name</th>\n",
       "      <th></th>\n",
       "      <th></th>\n",
       "      <th></th>\n",
       "      <th></th>\n",
       "      <th></th>\n",
       "      <th></th>\n",
       "      <th></th>\n",
       "      <th></th>\n",
       "    </tr>\n",
       "  </thead>\n",
       "  <tbody>\n",
       "    <tr>\n",
       "      <th>Capt</th>\n",
       "      <td>1.0</td>\n",
       "      <td>70.000000</td>\n",
       "      <td>NaN</td>\n",
       "      <td>70.0</td>\n",
       "      <td>70.00</td>\n",
       "      <td>70.0</td>\n",
       "      <td>70.00</td>\n",
       "      <td>70.0</td>\n",
       "    </tr>\n",
       "    <tr>\n",
       "      <th>Col</th>\n",
       "      <td>2.0</td>\n",
       "      <td>58.000000</td>\n",
       "      <td>2.828427</td>\n",
       "      <td>56.0</td>\n",
       "      <td>57.00</td>\n",
       "      <td>58.0</td>\n",
       "      <td>59.00</td>\n",
       "      <td>60.0</td>\n",
       "    </tr>\n",
       "    <tr>\n",
       "      <th>Don</th>\n",
       "      <td>1.0</td>\n",
       "      <td>40.000000</td>\n",
       "      <td>NaN</td>\n",
       "      <td>40.0</td>\n",
       "      <td>40.00</td>\n",
       "      <td>40.0</td>\n",
       "      <td>40.00</td>\n",
       "      <td>40.0</td>\n",
       "    </tr>\n",
       "    <tr>\n",
       "      <th>Dr</th>\n",
       "      <td>6.0</td>\n",
       "      <td>42.000000</td>\n",
       "      <td>12.016655</td>\n",
       "      <td>23.0</td>\n",
       "      <td>35.00</td>\n",
       "      <td>46.5</td>\n",
       "      <td>49.75</td>\n",
       "      <td>54.0</td>\n",
       "    </tr>\n",
       "    <tr>\n",
       "      <th>Jonkheer</th>\n",
       "      <td>1.0</td>\n",
       "      <td>38.000000</td>\n",
       "      <td>NaN</td>\n",
       "      <td>38.0</td>\n",
       "      <td>38.00</td>\n",
       "      <td>38.0</td>\n",
       "      <td>38.00</td>\n",
       "      <td>38.0</td>\n",
       "    </tr>\n",
       "    <tr>\n",
       "      <th>Lady</th>\n",
       "      <td>1.0</td>\n",
       "      <td>48.000000</td>\n",
       "      <td>NaN</td>\n",
       "      <td>48.0</td>\n",
       "      <td>48.00</td>\n",
       "      <td>48.0</td>\n",
       "      <td>48.00</td>\n",
       "      <td>48.0</td>\n",
       "    </tr>\n",
       "    <tr>\n",
       "      <th>Major</th>\n",
       "      <td>2.0</td>\n",
       "      <td>48.500000</td>\n",
       "      <td>4.949747</td>\n",
       "      <td>45.0</td>\n",
       "      <td>46.75</td>\n",
       "      <td>48.5</td>\n",
       "      <td>50.25</td>\n",
       "      <td>52.0</td>\n",
       "    </tr>\n",
       "    <tr>\n",
       "      <th>Mlle</th>\n",
       "      <td>2.0</td>\n",
       "      <td>24.000000</td>\n",
       "      <td>0.000000</td>\n",
       "      <td>24.0</td>\n",
       "      <td>24.00</td>\n",
       "      <td>24.0</td>\n",
       "      <td>24.00</td>\n",
       "      <td>24.0</td>\n",
       "    </tr>\n",
       "    <tr>\n",
       "      <th>Mme</th>\n",
       "      <td>1.0</td>\n",
       "      <td>24.000000</td>\n",
       "      <td>NaN</td>\n",
       "      <td>24.0</td>\n",
       "      <td>24.00</td>\n",
       "      <td>24.0</td>\n",
       "      <td>24.00</td>\n",
       "      <td>24.0</td>\n",
       "    </tr>\n",
       "    <tr>\n",
       "      <th>Ms</th>\n",
       "      <td>1.0</td>\n",
       "      <td>28.000000</td>\n",
       "      <td>NaN</td>\n",
       "      <td>28.0</td>\n",
       "      <td>28.00</td>\n",
       "      <td>28.0</td>\n",
       "      <td>28.00</td>\n",
       "      <td>28.0</td>\n",
       "    </tr>\n",
       "    <tr>\n",
       "      <th>Rev</th>\n",
       "      <td>6.0</td>\n",
       "      <td>43.166667</td>\n",
       "      <td>13.136463</td>\n",
       "      <td>27.0</td>\n",
       "      <td>31.50</td>\n",
       "      <td>46.5</td>\n",
       "      <td>53.25</td>\n",
       "      <td>57.0</td>\n",
       "    </tr>\n",
       "    <tr>\n",
       "      <th>Sir</th>\n",
       "      <td>1.0</td>\n",
       "      <td>49.000000</td>\n",
       "      <td>NaN</td>\n",
       "      <td>49.0</td>\n",
       "      <td>49.00</td>\n",
       "      <td>49.0</td>\n",
       "      <td>49.00</td>\n",
       "      <td>49.0</td>\n",
       "    </tr>\n",
       "    <tr>\n",
       "      <th>the Countess</th>\n",
       "      <td>1.0</td>\n",
       "      <td>33.000000</td>\n",
       "      <td>NaN</td>\n",
       "      <td>33.0</td>\n",
       "      <td>33.00</td>\n",
       "      <td>33.0</td>\n",
       "      <td>33.00</td>\n",
       "      <td>33.0</td>\n",
       "    </tr>\n",
       "  </tbody>\n",
       "</table>\n",
       "</div>"
      ],
      "text/plain": [
       "               count       mean        std   min    25%   50%    75%   max\n",
       "title name                                                                \n",
       " Capt            1.0  70.000000        NaN  70.0  70.00  70.0  70.00  70.0\n",
       " Col             2.0  58.000000   2.828427  56.0  57.00  58.0  59.00  60.0\n",
       " Don             1.0  40.000000        NaN  40.0  40.00  40.0  40.00  40.0\n",
       " Dr              6.0  42.000000  12.016655  23.0  35.00  46.5  49.75  54.0\n",
       " Jonkheer        1.0  38.000000        NaN  38.0  38.00  38.0  38.00  38.0\n",
       " Lady            1.0  48.000000        NaN  48.0  48.00  48.0  48.00  48.0\n",
       " Major           2.0  48.500000   4.949747  45.0  46.75  48.5  50.25  52.0\n",
       " Mlle            2.0  24.000000   0.000000  24.0  24.00  24.0  24.00  24.0\n",
       " Mme             1.0  24.000000        NaN  24.0  24.00  24.0  24.00  24.0\n",
       " Ms              1.0  28.000000        NaN  28.0  28.00  28.0  28.00  28.0\n",
       " Rev             6.0  43.166667  13.136463  27.0  31.50  46.5  53.25  57.0\n",
       " Sir             1.0  49.000000        NaN  49.0  49.00  49.0  49.00  49.0\n",
       " the Countess    1.0  33.000000        NaN  33.0  33.00  33.0  33.00  33.0"
      ]
     },
     "execution_count": 222,
     "metadata": {},
     "output_type": "execute_result"
    }
   ],
   "source": [
    "df[df['title name'].isin(other_titles)].groupby('title name').describe()['Age']"
   ]
  },
  {
   "cell_type": "code",
   "execution_count": 223,
   "metadata": {},
   "outputs": [],
   "source": [
    "df['title name'] = df['title name'].replace('Mlle', 'Miss')\n",
    "df['title name'] = df['title name'].replace('Ms', 'Miss')\n",
    "df['title name'] = df['title name'].replace('Mme', 'Mrs')\n",
    "df['title name']=df['title name'].replace(other_titles,'Rare')"
   ]
  },
  {
   "cell_type": "code",
   "execution_count": 224,
   "metadata": {},
   "outputs": [
    {
     "data": {
      "text/html": [
       "<div>\n",
       "<style scoped>\n",
       "    .dataframe tbody tr th:only-of-type {\n",
       "        vertical-align: middle;\n",
       "    }\n",
       "\n",
       "    .dataframe tbody tr th {\n",
       "        vertical-align: top;\n",
       "    }\n",
       "\n",
       "    .dataframe thead th {\n",
       "        text-align: right;\n",
       "    }\n",
       "</style>\n",
       "<table border=\"1\" class=\"dataframe\">\n",
       "  <thead>\n",
       "    <tr style=\"text-align: right;\">\n",
       "      <th></th>\n",
       "      <th>count</th>\n",
       "      <th>mean</th>\n",
       "      <th>std</th>\n",
       "      <th>min</th>\n",
       "      <th>25%</th>\n",
       "      <th>50%</th>\n",
       "      <th>75%</th>\n",
       "      <th>max</th>\n",
       "    </tr>\n",
       "    <tr>\n",
       "      <th>title name</th>\n",
       "      <th></th>\n",
       "      <th></th>\n",
       "      <th></th>\n",
       "      <th></th>\n",
       "      <th></th>\n",
       "      <th></th>\n",
       "      <th></th>\n",
       "      <th></th>\n",
       "    </tr>\n",
       "  </thead>\n",
       "  <tbody>\n",
       "    <tr>\n",
       "      <th>Col</th>\n",
       "      <td>2.0</td>\n",
       "      <td>50.0</td>\n",
       "      <td>4.242641</td>\n",
       "      <td>47.0</td>\n",
       "      <td>48.50</td>\n",
       "      <td>50.0</td>\n",
       "      <td>51.50</td>\n",
       "      <td>53.0</td>\n",
       "    </tr>\n",
       "    <tr>\n",
       "      <th>Dona</th>\n",
       "      <td>1.0</td>\n",
       "      <td>39.0</td>\n",
       "      <td>NaN</td>\n",
       "      <td>39.0</td>\n",
       "      <td>39.00</td>\n",
       "      <td>39.0</td>\n",
       "      <td>39.00</td>\n",
       "      <td>39.0</td>\n",
       "    </tr>\n",
       "    <tr>\n",
       "      <th>Dr</th>\n",
       "      <td>1.0</td>\n",
       "      <td>53.0</td>\n",
       "      <td>NaN</td>\n",
       "      <td>53.0</td>\n",
       "      <td>53.00</td>\n",
       "      <td>53.0</td>\n",
       "      <td>53.00</td>\n",
       "      <td>53.0</td>\n",
       "    </tr>\n",
       "    <tr>\n",
       "      <th>Ms</th>\n",
       "      <td>0.0</td>\n",
       "      <td>NaN</td>\n",
       "      <td>NaN</td>\n",
       "      <td>NaN</td>\n",
       "      <td>NaN</td>\n",
       "      <td>NaN</td>\n",
       "      <td>NaN</td>\n",
       "      <td>NaN</td>\n",
       "    </tr>\n",
       "    <tr>\n",
       "      <th>Rev</th>\n",
       "      <td>2.0</td>\n",
       "      <td>35.5</td>\n",
       "      <td>7.778175</td>\n",
       "      <td>30.0</td>\n",
       "      <td>32.75</td>\n",
       "      <td>35.5</td>\n",
       "      <td>38.25</td>\n",
       "      <td>41.0</td>\n",
       "    </tr>\n",
       "  </tbody>\n",
       "</table>\n",
       "</div>"
      ],
      "text/plain": [
       "            count  mean       std   min    25%   50%    75%   max\n",
       "title name                                                       \n",
       " Col          2.0  50.0  4.242641  47.0  48.50  50.0  51.50  53.0\n",
       " Dona         1.0  39.0       NaN  39.0  39.00  39.0  39.00  39.0\n",
       " Dr           1.0  53.0       NaN  53.0  53.00  53.0  53.00  53.0\n",
       " Ms           0.0   NaN       NaN   NaN    NaN   NaN    NaN   NaN\n",
       " Rev          2.0  35.5  7.778175  30.0  32.75  35.5  38.25  41.0"
      ]
     },
     "execution_count": 224,
     "metadata": {},
     "output_type": "execute_result"
    }
   ],
   "source": [
    "#Doing the same for test\n",
    "df_test['title name']=df_test['Name'].apply(lambda name:name.split(',')[1].split('.')[0])\n",
    "other_titles=df_test['title name'].value_counts().index[4:].values\n",
    "df_test[df_test['title name'].isin(other_titles)].groupby('title name').describe()['Age']"
   ]
  },
  {
   "cell_type": "code",
   "execution_count": 225,
   "metadata": {},
   "outputs": [],
   "source": [
    "df_test['title name'] = df_test['title name'].replace('Mlle', 'Miss')\n",
    "df_test['title name'] = df_test['title name'].replace('Ms', 'Miss')\n",
    "df_test['title name'] = df_test['title name'].replace('Mme', 'Mrs')\n",
    "df_test['title name']=df_test['title name'].replace(other_titles,'Rare')"
   ]
  },
  {
   "cell_type": "code",
   "execution_count": 226,
   "metadata": {},
   "outputs": [
    {
     "data": {
      "text/plain": [
       " Mr        240\n",
       " Miss       78\n",
       " Mrs        72\n",
       " Master     21\n",
       "Rare         7\n",
       "Name: title name, dtype: int64"
      ]
     },
     "execution_count": 226,
     "metadata": {},
     "output_type": "execute_result"
    }
   ],
   "source": [
    "df_test['title name'].value_counts()"
   ]
  },
  {
   "cell_type": "code",
   "execution_count": 227,
   "metadata": {},
   "outputs": [
    {
     "data": {
      "text/plain": [
       " Mr        517\n",
       " Miss      182\n",
       " Mrs       125\n",
       " Master     40\n",
       "Rare        27\n",
       "Name: title name, dtype: int64"
      ]
     },
     "execution_count": 227,
     "metadata": {},
     "output_type": "execute_result"
    }
   ],
   "source": [
    "df['title name'].value_counts()"
   ]
  },
  {
   "cell_type": "code",
   "execution_count": 228,
   "metadata": {},
   "outputs": [
    {
     "data": {
      "text/plain": [
       "<matplotlib.axes._subplots.AxesSubplot at 0x7f6df51ee810>"
      ]
     },
     "execution_count": 228,
     "metadata": {},
     "output_type": "execute_result"
    },
    {
     "data": {
      "image/png": "[encoded data removed]",
      "text/plain": [
       "<Figure size 864x648 with 1 Axes>"
      ]
     },
     "metadata": {},
     "output_type": "display_data"
    }
   ],
   "source": [
    "plt.figure(figsize=(12,9))\n",
    "sns.boxplot(x='title name', y='Age', data=df)"
   ]
  },
  {
   "cell_type": "code",
   "execution_count": 229,
   "metadata": {},
   "outputs": [],
   "source": [
    "df['Age'] = df.groupby('title name')['Age'].apply(lambda x: x.fillna(x.mean()))\n",
    "#Doing the same for test dataset\n",
    "df_test['Age'] = df_test.groupby('title name')['Age'].apply(lambda x: x.fillna(x.mean()))"
   ]
  },
  {
   "cell_type": "code",
   "execution_count": 230,
   "metadata": {},
   "outputs": [],
   "source": [
    "df['Age'] = df['Age'].astype(int)\n",
    "df_test['Age'] = df_test['Age'].astype(int)"
   ]
  },
  {
   "cell_type": "code",
   "execution_count": 231,
   "metadata": {},
   "outputs": [],
   "source": [
    " # Mapping Age\n",
    "df.loc[ df['Age'] <= 16, 'Age']= 0\n",
    "df.loc[(df['Age'] > 16) & (df['Age'] <= 32), 'Age'] = 1\n",
    "df.loc[(df['Age'] > 32) & (df['Age'] <= 48), 'Age'] = 2\n",
    "df.loc[(df['Age'] > 48) & (df['Age'] <= 64), 'Age'] = 3\n",
    "df.loc[ df['Age'] > 64, 'Age'] = 4 ;\n",
    "\n",
    "df_test.loc[ df_test['Age'] <= 16, 'Age']= 0\n",
    "df_test.loc[(df_test['Age'] > 16) & (df_test['Age'] <= 32), 'Age'] = 1\n",
    "df_test.loc[(df_test['Age'] > 32) & (df_test['Age'] <= 48), 'Age'] = 2\n",
    "df_test.loc[(df_test['Age'] > 48) & (df_test['Age'] <= 64), 'Age'] = 3\n",
    "df_test.loc[ df_test['Age'] > 64, 'Age'] = 4 ;\n"
   ]
  },
  {
   "cell_type": "code",
   "execution_count": 232,
   "metadata": {},
   "outputs": [],
   "source": [
    "# Mapping titles\n",
    "title_mapping = {\" Mr\": 1, \" Miss\": 2, \" Mrs\": 3, \" Master\": 4, \"Rare\": 5}\n",
    "df['title name'] = df['title name'].map(title_mapping)\n",
    "df['title name'] = df['title name'].fillna(0)\n",
    "\n",
    "df_test['title name'] = df_test['title name'].map(title_mapping)\n",
    "df_test['title name'] = df_test['title name'].fillna(0)"
   ]
  },
  {
   "cell_type": "code",
   "execution_count": 233,
   "metadata": {},
   "outputs": [],
   "source": [
    "# Mapping Embarked\n",
    "df['Embarked'] = df['Embarked'].fillna('S')\n",
    "df_test['Embarked'] = df_test['Embarked'].fillna('S')\n",
    "\n",
    "df['Embarked'] = df['Embarked'].map( {'S': 0, 'C': 1, 'Q': 2} ).astype(int)\n",
    "df_test['Embarked'] = df_test['Embarked'].map( {'S': 0, 'C': 1, 'Q': 2} ).astype(int)"
   ]
  },
  {
   "cell_type": "code",
   "execution_count": 234,
   "metadata": {},
   "outputs": [],
   "source": [
    "df['Fare'] = df['Fare'].fillna(df['Fare'].median())\n",
    "df_test['Fare'] = df_test['Fare'].fillna(df['Fare'].median())\n",
    "# Mapping Fare\n",
    "df.loc[ df['Fare'] <= 7.91, 'Fare']= 0\n",
    "df.loc[(df['Fare'] > 7.91) & (df['Fare'] <= 14.454), 'Fare'] = 1\n",
    "df.loc[(df['Fare'] > 14.454) & (df['Fare'] <= 31), 'Fare']   = 2\n",
    "df.loc[ df['Fare'] > 31, 'Fare']= 3\n",
    "df['Fare'] = df['Fare'].astype(int)\n",
    "\n",
    "df_test.loc[ df['Fare'] <= 7.91, 'Fare']= 0\n",
    "df_test.loc[(df['Fare'] > 7.91) & (df_test['Fare'] <= 14.454), 'Fare'] = 1\n",
    "df_test.loc[(df['Fare'] > 14.454) & (df_test['Fare'] <= 31), 'Fare']   = 2\n",
    "df_test.loc[ df_test['Fare'] > 31, 'Fare']= 3\n",
    "df_test['Fare'] = df_test['Fare'].astype(int)"
   ]
  },
  {
   "cell_type": "code",
   "execution_count": 235,
   "metadata": {},
   "outputs": [
    {
     "data": {
      "text/html": [
       "<div>\n",
       "<style scoped>\n",
       "    .dataframe tbody tr th:only-of-type {\n",
       "        vertical-align: middle;\n",
       "    }\n",
       "\n",
       "    .dataframe tbody tr th {\n",
       "        vertical-align: top;\n",
       "    }\n",
       "\n",
       "    .dataframe thead th {\n",
       "        text-align: right;\n",
       "    }\n",
       "</style>\n",
       "<table border=\"1\" class=\"dataframe\">\n",
       "  <thead>\n",
       "    <tr style=\"text-align: right;\">\n",
       "      <th></th>\n",
       "      <th>PassengerId</th>\n",
       "      <th>Survived</th>\n",
       "      <th>Pclass</th>\n",
       "      <th>Name</th>\n",
       "      <th>Sex</th>\n",
       "      <th>Age</th>\n",
       "      <th>SibSp</th>\n",
       "      <th>Parch</th>\n",
       "      <th>Ticket</th>\n",
       "      <th>Fare</th>\n",
       "      <th>Embarked</th>\n",
       "      <th>Last Name</th>\n",
       "      <th>title name</th>\n",
       "    </tr>\n",
       "  </thead>\n",
       "  <tbody>\n",
       "    <tr>\n",
       "      <th>0</th>\n",
       "      <td>1</td>\n",
       "      <td>0</td>\n",
       "      <td>3</td>\n",
       "      <td>Braund, Mr. Owen Harris</td>\n",
       "      <td>male</td>\n",
       "      <td>1</td>\n",
       "      <td>1</td>\n",
       "      <td>0</td>\n",
       "      <td>A/5 21171</td>\n",
       "      <td>0</td>\n",
       "      <td>0</td>\n",
       "      <td>Braund</td>\n",
       "      <td>1</td>\n",
       "    </tr>\n",
       "    <tr>\n",
       "      <th>1</th>\n",
       "      <td>2</td>\n",
       "      <td>1</td>\n",
       "      <td>1</td>\n",
       "      <td>Cumings, Mrs. John Bradley (Florence Briggs Th...</td>\n",
       "      <td>female</td>\n",
       "      <td>2</td>\n",
       "      <td>1</td>\n",
       "      <td>0</td>\n",
       "      <td>PC 17599</td>\n",
       "      <td>3</td>\n",
       "      <td>1</td>\n",
       "      <td>Cumings</td>\n",
       "      <td>3</td>\n",
       "    </tr>\n",
       "    <tr>\n",
       "      <th>2</th>\n",
       "      <td>3</td>\n",
       "      <td>1</td>\n",
       "      <td>3</td>\n",
       "      <td>Heikkinen, Miss. Laina</td>\n",
       "      <td>female</td>\n",
       "      <td>1</td>\n",
       "      <td>0</td>\n",
       "      <td>0</td>\n",
       "      <td>STON/O2. 3101282</td>\n",
       "      <td>1</td>\n",
       "      <td>0</td>\n",
       "      <td>Heikkinen</td>\n",
       "      <td>2</td>\n",
       "    </tr>\n",
       "    <tr>\n",
       "      <th>3</th>\n",
       "      <td>4</td>\n",
       "      <td>1</td>\n",
       "      <td>1</td>\n",
       "      <td>Futrelle, Mrs. Jacques Heath (Lily May Peel)</td>\n",
       "      <td>female</td>\n",
       "      <td>2</td>\n",
       "      <td>1</td>\n",
       "      <td>0</td>\n",
       "      <td>113803</td>\n",
       "      <td>3</td>\n",
       "      <td>0</td>\n",
       "      <td>Futrelle</td>\n",
       "      <td>3</td>\n",
       "    </tr>\n",
       "    <tr>\n",
       "      <th>4</th>\n",
       "      <td>5</td>\n",
       "      <td>0</td>\n",
       "      <td>3</td>\n",
       "      <td>Allen, Mr. William Henry</td>\n",
       "      <td>male</td>\n",
       "      <td>2</td>\n",
       "      <td>0</td>\n",
       "      <td>0</td>\n",
       "      <td>373450</td>\n",
       "      <td>1</td>\n",
       "      <td>0</td>\n",
       "      <td>Allen</td>\n",
       "      <td>1</td>\n",
       "    </tr>\n",
       "  </tbody>\n",
       "</table>\n",
       "</div>"
      ],
      "text/plain": [
       "   PassengerId  Survived  Pclass  \\\n",
       "0            1         0       3   \n",
       "1            2         1       1   \n",
       "2            3         1       3   \n",
       "3            4         1       1   \n",
       "4            5         0       3   \n",
       "\n",
       "                                                Name     Sex  Age  SibSp  \\\n",
       "0                            Braund, Mr. Owen Harris    male    1      1   \n",
       "1  Cumings, Mrs. John Bradley (Florence Briggs Th...  female    2      1   \n",
       "2                             Heikkinen, Miss. Laina  female    1      0   \n",
       "3       Futrelle, Mrs. Jacques Heath (Lily May Peel)  female    2      1   \n",
       "4                           Allen, Mr. William Henry    male    2      0   \n",
       "\n",
       "   Parch            Ticket  Fare  Embarked  Last Name  title name  \n",
       "0      0         A/5 21171     0         0     Braund           1  \n",
       "1      0          PC 17599     3         1    Cumings           3  \n",
       "2      0  STON/O2. 3101282     1         0  Heikkinen           2  \n",
       "3      0            113803     3         0   Futrelle           3  \n",
       "4      0            373450     1         0      Allen           1  "
      ]
     },
     "execution_count": 235,
     "metadata": {},
     "output_type": "execute_result"
    }
   ],
   "source": [
    "df.head()"
   ]
  },
  {
   "cell_type": "code",
   "execution_count": 236,
   "metadata": {},
   "outputs": [
    {
     "data": {
      "text/plain": [
       "<matplotlib.axes._subplots.AxesSubplot at 0x7f6e5856f910>"
      ]
     },
     "execution_count": 236,
     "metadata": {},
     "output_type": "execute_result"
    },
    {
     "data": {
      "image/png": "[encoded data removed]",
      "text/plain": [
       "<Figure size 432x288 with 2 Axes>"
      ]
     },
     "metadata": {},
     "output_type": "display_data"
    }
   ],
   "source": [
    "sns.heatmap(df.isnull())"
   ]
  },
  {
   "cell_type": "code",
   "execution_count": 237,
   "metadata": {},
   "outputs": [
    {
     "data": {
      "text/plain": [
       "PassengerId    0.0\n",
       "Survived       0.0\n",
       "Pclass         0.0\n",
       "Name           0.0\n",
       "Sex            0.0\n",
       "Age            0.0\n",
       "SibSp          0.0\n",
       "Parch          0.0\n",
       "Ticket         0.0\n",
       "Fare           0.0\n",
       "Embarked       0.0\n",
       "Last Name      0.0\n",
       "title name     0.0\n",
       "dtype: float64"
      ]
     },
     "execution_count": 237,
     "metadata": {},
     "output_type": "execute_result"
    }
   ],
   "source": [
    "(df.isnull().sum()*100)/df.shape[0]"
   ]
  },
  {
   "cell_type": "code",
   "execution_count": 239,
   "metadata": {},
   "outputs": [
    {
     "data": {
      "text/plain": [
       "(418, 11)"
      ]
     },
     "execution_count": 239,
     "metadata": {},
     "output_type": "execute_result"
    }
   ],
   "source": [
    "df_test.shape"
   ]
  },
  {
   "cell_type": "code",
   "execution_count": 240,
   "metadata": {},
   "outputs": [
    {
     "data": {
      "text/plain": [
       "PassengerId    0.0\n",
       "Pclass         0.0\n",
       "Name           0.0\n",
       "Sex            0.0\n",
       "Age            0.0\n",
       "SibSp          0.0\n",
       "Parch          0.0\n",
       "Ticket         0.0\n",
       "Fare           0.0\n",
       "Embarked       0.0\n",
       "title name     0.0\n",
       "dtype: float64"
      ]
     },
     "execution_count": 240,
     "metadata": {},
     "output_type": "execute_result"
    }
   ],
   "source": [
    "(df_test.isnull().sum()*100)/df_test.shape[0]"
   ]
  },
  {
   "cell_type": "code",
   "execution_count": 241,
   "metadata": {},
   "outputs": [
    {
     "data": {
      "text/plain": [
       "PassengerId    0.0\n",
       "Pclass         0.0\n",
       "Name           0.0\n",
       "Sex            0.0\n",
       "Age            0.0\n",
       "SibSp          0.0\n",
       "Parch          0.0\n",
       "Ticket         0.0\n",
       "Fare           0.0\n",
       "Embarked       0.0\n",
       "title name     0.0\n",
       "dtype: float64"
      ]
     },
     "execution_count": 241,
     "metadata": {},
     "output_type": "execute_result"
    }
   ],
   "source": [
    "(df_test.isnull().sum()*100)/df_test.shape[0]"
   ]
  },
  {
   "cell_type": "code",
   "execution_count": 242,
   "metadata": {},
   "outputs": [],
   "source": [
    "df['size of family'] = df['SibSp'] + df['Parch'] + 1\n",
    "df.drop('SibSp',inplace=True,axis=1)\n",
    "\n",
    "df_test['size of family'] = df_test['SibSp'] + df_test['Parch'] + 1\n",
    "df_test.drop('SibSp',inplace=True,axis=1)"
   ]
  },
  {
   "cell_type": "code",
   "execution_count": 243,
   "metadata": {},
   "outputs": [],
   "source": [
    "df['is alone']=df.apply((lambda row: 1 if (row['size of family']==1) else 0),axis=1)\n",
    "df_test['is alone']=df_test.apply((lambda row: 1 if (row['size of family']==1) else 0),axis=1)"
   ]
  },
  {
   "cell_type": "code",
   "execution_count": 244,
   "metadata": {},
   "outputs": [
    {
     "data": {
      "text/plain": [
       "<matplotlib.axes._subplots.AxesSubplot at 0x7f6df50ac950>"
      ]
     },
     "execution_count": 244,
     "metadata": {},
     "output_type": "execute_result"
    },
    {
     "data": {
      "image/png": "[encoded data removed]",
      "text/plain": [
       "<Figure size 864x576 with 2 Axes>"
      ]
     },
     "metadata": {},
     "output_type": "display_data"
    }
   ],
   "source": [
    "plt.figure(figsize=(12,8))\n",
    "sns.heatmap(df.corr(),cmap = sns.diverging_palette(220, 10, as_cmap=True),center=0,annot=True)"
   ]
  },
  {
   "cell_type": "code",
   "execution_count": 245,
   "metadata": {},
   "outputs": [],
   "source": [
    "features=['Pclass','Sex','Age','Fare','Embarked','title name', 'size of family', 'is alone', 'Survived']\n",
    "df_dummies= pd.get_dummies(df[features])\n",
    "features=['Pclass','Sex','Age','Fare','Embarked','title name','size of family', 'is alone']\n",
    "df_dummies_test = pd.get_dummies(df_test[features])"
   ]
  },
  {
   "cell_type": "code",
   "execution_count": 246,
   "metadata": {},
   "outputs": [
    {
     "data": {
      "text/html": [
       "<div>\n",
       "<style scoped>\n",
       "    .dataframe tbody tr th:only-of-type {\n",
       "        vertical-align: middle;\n",
       "    }\n",
       "\n",
       "    .dataframe tbody tr th {\n",
       "        vertical-align: top;\n",
       "    }\n",
       "\n",
       "    .dataframe thead th {\n",
       "        text-align: right;\n",
       "    }\n",
       "</style>\n",
       "<table border=\"1\" class=\"dataframe\">\n",
       "  <thead>\n",
       "    <tr style=\"text-align: right;\">\n",
       "      <th></th>\n",
       "      <th>Pclass</th>\n",
       "      <th>Age</th>\n",
       "      <th>Fare</th>\n",
       "      <th>Embarked</th>\n",
       "      <th>title name</th>\n",
       "      <th>size of family</th>\n",
       "      <th>is alone</th>\n",
       "      <th>Survived</th>\n",
       "      <th>Sex_female</th>\n",
       "      <th>Sex_male</th>\n",
       "    </tr>\n",
       "  </thead>\n",
       "  <tbody>\n",
       "    <tr>\n",
       "      <th>0</th>\n",
       "      <td>3</td>\n",
       "      <td>1</td>\n",
       "      <td>0</td>\n",
       "      <td>0</td>\n",
       "      <td>1</td>\n",
       "      <td>2</td>\n",
       "      <td>0</td>\n",
       "      <td>0</td>\n",
       "      <td>0</td>\n",
       "      <td>1</td>\n",
       "    </tr>\n",
       "    <tr>\n",
       "      <th>1</th>\n",
       "      <td>1</td>\n",
       "      <td>2</td>\n",
       "      <td>3</td>\n",
       "      <td>1</td>\n",
       "      <td>3</td>\n",
       "      <td>2</td>\n",
       "      <td>0</td>\n",
       "      <td>1</td>\n",
       "      <td>1</td>\n",
       "      <td>0</td>\n",
       "    </tr>\n",
       "    <tr>\n",
       "      <th>2</th>\n",
       "      <td>3</td>\n",
       "      <td>1</td>\n",
       "      <td>1</td>\n",
       "      <td>0</td>\n",
       "      <td>2</td>\n",
       "      <td>1</td>\n",
       "      <td>1</td>\n",
       "      <td>1</td>\n",
       "      <td>1</td>\n",
       "      <td>0</td>\n",
       "    </tr>\n",
       "    <tr>\n",
       "      <th>3</th>\n",
       "      <td>1</td>\n",
       "      <td>2</td>\n",
       "      <td>3</td>\n",
       "      <td>0</td>\n",
       "      <td>3</td>\n",
       "      <td>2</td>\n",
       "      <td>0</td>\n",
       "      <td>1</td>\n",
       "      <td>1</td>\n",
       "      <td>0</td>\n",
       "    </tr>\n",
       "    <tr>\n",
       "      <th>4</th>\n",
       "      <td>3</td>\n",
       "      <td>2</td>\n",
       "      <td>1</td>\n",
       "      <td>0</td>\n",
       "      <td>1</td>\n",
       "      <td>1</td>\n",
       "      <td>1</td>\n",
       "      <td>0</td>\n",
       "      <td>0</td>\n",
       "      <td>1</td>\n",
       "    </tr>\n",
       "  </tbody>\n",
       "</table>\n",
       "</div>"
      ],
      "text/plain": [
       "   Pclass  Age  Fare  Embarked  title name  size of family  is alone  \\\n",
       "0       3    1     0         0           1               2         0   \n",
       "1       1    2     3         1           3               2         0   \n",
       "2       3    1     1         0           2               1         1   \n",
       "3       1    2     3         0           3               2         0   \n",
       "4       3    2     1         0           1               1         1   \n",
       "\n",
       "   Survived  Sex_female  Sex_male  \n",
       "0         0           0         1  \n",
       "1         1           1         0  \n",
       "2         1           1         0  \n",
       "3         1           1         0  \n",
       "4         0           0         1  "
      ]
     },
     "execution_count": 246,
     "metadata": {},
     "output_type": "execute_result"
    }
   ],
   "source": [
    "df_dummies.head()"
   ]
  },
  {
   "cell_type": "code",
   "execution_count": 248,
   "metadata": {},
   "outputs": [],
   "source": [
    "# df_dummies.drop(['Sex_male','Embarked_S','title name_Rare'],axis=1,inplace=True)"
   ]
  },
  {
   "cell_type": "code",
   "execution_count": 249,
   "metadata": {},
   "outputs": [],
   "source": [
    "# df_dummies_test.drop(['Sex_male','Embarked_S','title name_Rare'],axis=1,inplace=True)"
   ]
  },
  {
   "cell_type": "code",
   "execution_count": 251,
   "metadata": {},
   "outputs": [
    {
     "data": {
      "text/html": [
       "<div>\n",
       "<style scoped>\n",
       "    .dataframe tbody tr th:only-of-type {\n",
       "        vertical-align: middle;\n",
       "    }\n",
       "\n",
       "    .dataframe tbody tr th {\n",
       "        vertical-align: top;\n",
       "    }\n",
       "\n",
       "    .dataframe thead th {\n",
       "        text-align: right;\n",
       "    }\n",
       "</style>\n",
       "<table border=\"1\" class=\"dataframe\">\n",
       "  <thead>\n",
       "    <tr style=\"text-align: right;\">\n",
       "      <th></th>\n",
       "      <th>Pclass</th>\n",
       "      <th>Age</th>\n",
       "      <th>Fare</th>\n",
       "      <th>Embarked</th>\n",
       "      <th>title name</th>\n",
       "      <th>size of family</th>\n",
       "      <th>is alone</th>\n",
       "      <th>Sex_female</th>\n",
       "      <th>Sex_male</th>\n",
       "    </tr>\n",
       "  </thead>\n",
       "  <tbody>\n",
       "    <tr>\n",
       "      <th>0</th>\n",
       "      <td>3</td>\n",
       "      <td>2</td>\n",
       "      <td>0</td>\n",
       "      <td>2</td>\n",
       "      <td>1</td>\n",
       "      <td>1</td>\n",
       "      <td>1</td>\n",
       "      <td>0</td>\n",
       "      <td>1</td>\n",
       "    </tr>\n",
       "    <tr>\n",
       "      <th>1</th>\n",
       "      <td>3</td>\n",
       "      <td>2</td>\n",
       "      <td>0</td>\n",
       "      <td>0</td>\n",
       "      <td>3</td>\n",
       "      <td>2</td>\n",
       "      <td>0</td>\n",
       "      <td>1</td>\n",
       "      <td>0</td>\n",
       "    </tr>\n",
       "    <tr>\n",
       "      <th>2</th>\n",
       "      <td>2</td>\n",
       "      <td>3</td>\n",
       "      <td>0</td>\n",
       "      <td>2</td>\n",
       "      <td>1</td>\n",
       "      <td>1</td>\n",
       "      <td>1</td>\n",
       "      <td>0</td>\n",
       "      <td>1</td>\n",
       "    </tr>\n",
       "    <tr>\n",
       "      <th>3</th>\n",
       "      <td>3</td>\n",
       "      <td>1</td>\n",
       "      <td>0</td>\n",
       "      <td>0</td>\n",
       "      <td>1</td>\n",
       "      <td>1</td>\n",
       "      <td>1</td>\n",
       "      <td>0</td>\n",
       "      <td>1</td>\n",
       "    </tr>\n",
       "    <tr>\n",
       "      <th>4</th>\n",
       "      <td>3</td>\n",
       "      <td>1</td>\n",
       "      <td>0</td>\n",
       "      <td>0</td>\n",
       "      <td>3</td>\n",
       "      <td>3</td>\n",
       "      <td>0</td>\n",
       "      <td>1</td>\n",
       "      <td>0</td>\n",
       "    </tr>\n",
       "  </tbody>\n",
       "</table>\n",
       "</div>"
      ],
      "text/plain": [
       "   Pclass  Age  Fare  Embarked  title name  size of family  is alone  \\\n",
       "0       3    2     0         2           1               1         1   \n",
       "1       3    2     0         0           3               2         0   \n",
       "2       2    3     0         2           1               1         1   \n",
       "3       3    1     0         0           1               1         1   \n",
       "4       3    1     0         0           3               3         0   \n",
       "\n",
       "   Sex_female  Sex_male  \n",
       "0           0         1  \n",
       "1           1         0  \n",
       "2           0         1  \n",
       "3           0         1  \n",
       "4           1         0  "
      ]
     },
     "execution_count": 251,
     "metadata": {},
     "output_type": "execute_result"
    }
   ],
   "source": [
    "df_dummies_test.head()"
   ]
  },
  {
   "cell_type": "markdown",
   "metadata": {},
   "source": [
    "## Split Data"
   ]
  },
  {
   "cell_type": "code",
   "execution_count": 293,
   "metadata": {},
   "outputs": [],
   "source": [
    "from sklearn.model_selection import train_test_split\n",
    "X = df_dummies.drop('Survived',axis=1).values\n",
    "y = df_dummies['Survived'].values\n",
    "X_train, X_test, y_train, y_test = train_test_split(X, y, test_size=0.33)"
   ]
  },
  {
   "cell_type": "markdown",
   "metadata": {},
   "source": [
    "### Scale data"
   ]
  },
  {
   "cell_type": "code",
   "execution_count": 294,
   "metadata": {},
   "outputs": [],
   "source": [
    "from sklearn.preprocessing import MinMaxScaler\n",
    "scaler = MinMaxScaler()\n",
    "scaler.fit(X_train)\n",
    "X_train = scaler.transform(X_train)\n",
    "X_test = scaler.transform(X_test)"
   ]
  },
  {
   "cell_type": "markdown",
   "metadata": {},
   "source": [
    "## Model"
   ]
  },
  {
   "cell_type": "code",
   "execution_count": 295,
   "metadata": {},
   "outputs": [],
   "source": [
    "import tensorflow as tf\n",
    "from tensorflow.keras.models import Sequential\n",
    "from tensorflow.keras.layers import Dense, Activation,Dropout"
   ]
  },
  {
   "cell_type": "code",
   "execution_count": 296,
   "metadata": {},
   "outputs": [
    {
     "data": {
      "text/plain": [
       "(596, 9)"
      ]
     },
     "execution_count": 296,
     "metadata": {},
     "output_type": "execute_result"
    }
   ],
   "source": [
    "X_train.shape"
   ]
  },
  {
   "cell_type": "code",
   "execution_count": 297,
   "metadata": {
    "scrolled": true
   },
   "outputs": [
    {
     "data": {
      "text/plain": [
       "(295, 9)"
      ]
     },
     "execution_count": 297,
     "metadata": {},
     "output_type": "execute_result"
    }
   ],
   "source": [
    "X_test.shape"
   ]
  },
  {
   "cell_type": "code",
   "execution_count": 358,
   "metadata": {},
   "outputs": [],
   "source": [
    "model= Sequential()\n",
    "\n",
    "model.add(Dense(units=12,activation='relu'))\n",
    "model.add(Dropout(0.1))\n",
    "\n",
    "model.add(Dense(units=40,activation='relu'))\n",
    "model.add(Dropout(0.1))\n",
    "\n",
    "model.add(Dense(units=35,activation='relu'))\n",
    "model.add(Dropout(0.1))\n",
    "\n",
    "model.add(Dense(units=10,activation='relu'))\n",
    "model.add(Dropout(0.1))\n",
    "\n",
    "model.add(Dense(units=1,activation='sigmoid'))\n",
    "\n",
    "model.compile(loss='binary_crossentropy',optimizer='adam')"
   ]
  },
  {
   "cell_type": "code",
   "execution_count": 359,
   "metadata": {},
   "outputs": [],
   "source": [
    "from tensorflow.keras.callbacks import EarlyStopping\n",
    "early_stop = EarlyStopping(monitor='val_loss', mode='min', verbose=1, patience=100)"
   ]
  },
  {
   "cell_type": "code",
   "execution_count": 360,
   "metadata": {},
   "outputs": [
    {
     "name": "stdout",
     "output_type": "stream",
     "text": [
      "Train on 596 samples, validate on 295 samples\n",
      "Epoch 1/600\n",
      "596/596 [==============================] - 1s 1ms/sample - loss: 0.6803 - val_loss: 0.6277\n",
      "Epoch 2/600\n",
      "596/596 [==============================] - 0s 164us/sample - loss: 0.6365 - val_loss: 0.5766\n",
      "Epoch 3/600\n",
      "596/596 [==============================] - 0s 156us/sample - loss: 0.6098 - val_loss: 0.5319\n",
      "Epoch 4/600\n",
      "596/596 [==============================] - 0s 152us/sample - loss: 0.5764 - val_loss: 0.4906\n",
      "Epoch 5/600\n",
      "596/596 [==============================] - 0s 170us/sample - loss: 0.5495 - val_loss: 0.4623\n",
      "Epoch 6/600\n",
      "596/596 [==============================] - 0s 137us/sample - loss: 0.5491 - val_loss: 0.4460\n",
      "Epoch 7/600\n",
      "596/596 [==============================] - 0s 165us/sample - loss: 0.5391 - val_loss: 0.4374\n",
      "Epoch 8/600\n",
      "596/596 [==============================] - 0s 161us/sample - loss: 0.5200 - val_loss: 0.4342\n",
      "Epoch 9/600\n",
      "596/596 [==============================] - 0s 186us/sample - loss: 0.5280 - val_loss: 0.4358\n",
      "Epoch 10/600\n",
      "596/596 [==============================] - 0s 169us/sample - loss: 0.5040 - val_loss: 0.4310\n",
      "Epoch 11/600\n",
      "596/596 [==============================] - 0s 207us/sample - loss: 0.5219 - val_loss: 0.4269\n",
      "Epoch 12/600\n",
      "596/596 [==============================] - 0s 160us/sample - loss: 0.5037 - val_loss: 0.4303\n",
      "Epoch 13/600\n",
      "596/596 [==============================] - 0s 145us/sample - loss: 0.5164 - val_loss: 0.4294\n",
      "Epoch 14/600\n",
      "596/596 [==============================] - 0s 158us/sample - loss: 0.4978 - val_loss: 0.4268\n",
      "Epoch 15/600\n",
      "596/596 [==============================] - 0s 158us/sample - loss: 0.4860 - val_loss: 0.4184\n",
      "Epoch 16/600\n",
      "596/596 [==============================] - 0s 150us/sample - loss: 0.4911 - val_loss: 0.4238\n",
      "Epoch 17/600\n",
      "596/596 [==============================] - 0s 161us/sample - loss: 0.4715 - val_loss: 0.4137\n",
      "Epoch 18/600\n",
      "596/596 [==============================] - 0s 155us/sample - loss: 0.4870 - val_loss: 0.4133\n",
      "Epoch 19/600\n",
      "596/596 [==============================] - 0s 155us/sample - loss: 0.4989 - val_loss: 0.4157\n",
      "Epoch 20/600\n",
      "596/596 [==============================] - 0s 163us/sample - loss: 0.4787 - val_loss: 0.4109\n",
      "Epoch 21/600\n",
      "596/596 [==============================] - 0s 142us/sample - loss: 0.4839 - val_loss: 0.4061\n",
      "Epoch 22/600\n",
      "596/596 [==============================] - 0s 161us/sample - loss: 0.4847 - val_loss: 0.4061\n",
      "Epoch 23/600\n",
      "596/596 [==============================] - 0s 157us/sample - loss: 0.4884 - val_loss: 0.4100\n",
      "Epoch 24/600\n",
      "596/596 [==============================] - 0s 151us/sample - loss: 0.4602 - val_loss: 0.4029\n",
      "Epoch 25/600\n",
      "596/596 [==============================] - 0s 151us/sample - loss: 0.4776 - val_loss: 0.4057\n",
      "Epoch 26/600\n",
      "596/596 [==============================] - 0s 147us/sample - loss: 0.4916 - val_loss: 0.4056\n",
      "Epoch 27/600\n",
      "596/596 [==============================] - 0s 162us/sample - loss: 0.4776 - val_loss: 0.4043\n",
      "Epoch 28/600\n",
      "596/596 [==============================] - 0s 149us/sample - loss: 0.4886 - val_loss: 0.4043\n",
      "Epoch 29/600\n",
      "596/596 [==============================] - 0s 153us/sample - loss: 0.4817 - val_loss: 0.4039\n",
      "Epoch 30/600\n",
      "596/596 [==============================] - 0s 171us/sample - loss: 0.4660 - val_loss: 0.3962\n",
      "Epoch 31/600\n",
      "596/596 [==============================] - 0s 233us/sample - loss: 0.4537 - val_loss: 0.3937\n",
      "Epoch 32/600\n",
      "596/596 [==============================] - 0s 212us/sample - loss: 0.4684 - val_loss: 0.3957\n",
      "Epoch 33/600\n",
      "596/596 [==============================] - 0s 185us/sample - loss: 0.4692 - val_loss: 0.3979\n",
      "Epoch 34/600\n",
      "596/596 [==============================] - 0s 219us/sample - loss: 0.4603 - val_loss: 0.3909\n",
      "Epoch 35/600\n",
      "596/596 [==============================] - 0s 223us/sample - loss: 0.4561 - val_loss: 0.3943\n",
      "Epoch 36/600\n",
      "596/596 [==============================] - 0s 302us/sample - loss: 0.4637 - val_loss: 0.3988\n",
      "Epoch 37/600\n",
      "596/596 [==============================] - 0s 265us/sample - loss: 0.4804 - val_loss: 0.4036\n",
      "Epoch 38/600\n",
      "596/596 [==============================] - 0s 215us/sample - loss: 0.4561 - val_loss: 0.3915\n",
      "Epoch 39/600\n",
      "596/596 [==============================] - 0s 205us/sample - loss: 0.4558 - val_loss: 0.3905\n",
      "Epoch 40/600\n",
      "596/596 [==============================] - 0s 233us/sample - loss: 0.4575 - val_loss: 0.3868\n",
      "Epoch 41/600\n",
      "596/596 [==============================] - 0s 198us/sample - loss: 0.4499 - val_loss: 0.3861\n",
      "Epoch 42/600\n",
      "596/596 [==============================] - 0s 148us/sample - loss: 0.4477 - val_loss: 0.3915\n",
      "Epoch 43/600\n",
      "596/596 [==============================] - 0s 153us/sample - loss: 0.4569 - val_loss: 0.3909\n",
      "Epoch 44/600\n",
      "596/596 [==============================] - 0s 192us/sample - loss: 0.4496 - val_loss: 0.3881\n",
      "Epoch 45/600\n",
      "596/596 [==============================] - 0s 149us/sample - loss: 0.4465 - val_loss: 0.3826\n",
      "Epoch 46/600\n",
      "596/596 [==============================] - 0s 157us/sample - loss: 0.4523 - val_loss: 0.3887\n",
      "Epoch 47/600\n",
      "596/596 [==============================] - 0s 150us/sample - loss: 0.4639 - val_loss: 0.3912\n",
      "Epoch 48/600\n",
      "596/596 [==============================] - 0s 169us/sample - loss: 0.4628 - val_loss: 0.3888\n",
      "Epoch 49/600\n",
      "596/596 [==============================] - 0s 203us/sample - loss: 0.4569 - val_loss: 0.3854\n",
      "Epoch 50/600\n",
      "596/596 [==============================] - 0s 189us/sample - loss: 0.4547 - val_loss: 0.3834\n",
      "Epoch 51/600\n",
      "596/596 [==============================] - 0s 148us/sample - loss: 0.4510 - val_loss: 0.3817\n",
      "Epoch 52/600\n",
      "596/596 [==============================] - 0s 156us/sample - loss: 0.4504 - val_loss: 0.3897\n",
      "Epoch 53/600\n",
      "596/596 [==============================] - 0s 164us/sample - loss: 0.4469 - val_loss: 0.3873\n",
      "Epoch 54/600\n",
      "596/596 [==============================] - 0s 144us/sample - loss: 0.4532 - val_loss: 0.3855\n",
      "Epoch 55/600\n",
      "596/596 [==============================] - 0s 139us/sample - loss: 0.4393 - val_loss: 0.3852\n",
      "Epoch 56/600\n",
      "596/596 [==============================] - 0s 125us/sample - loss: 0.4412 - val_loss: 0.3814\n",
      "Epoch 57/600\n",
      "596/596 [==============================] - 0s 120us/sample - loss: 0.4329 - val_loss: 0.3816\n",
      "Epoch 58/600\n",
      "596/596 [==============================] - 0s 155us/sample - loss: 0.4463 - val_loss: 0.3820\n",
      "Epoch 59/600\n",
      "596/596 [==============================] - 0s 227us/sample - loss: 0.4427 - val_loss: 0.3896\n",
      "Epoch 60/600\n",
      "596/596 [==============================] - 0s 190us/sample - loss: 0.4418 - val_loss: 0.3895\n",
      "Epoch 61/600\n",
      "596/596 [==============================] - 0s 192us/sample - loss: 0.4319 - val_loss: 0.3859\n",
      "Epoch 62/600\n",
      "596/596 [==============================] - 0s 199us/sample - loss: 0.4648 - val_loss: 0.3940\n",
      "Epoch 63/600\n",
      "596/596 [==============================] - 0s 220us/sample - loss: 0.4332 - val_loss: 0.3960\n",
      "Epoch 64/600\n",
      "596/596 [==============================] - 0s 213us/sample - loss: 0.4406 - val_loss: 0.3880\n",
      "Epoch 65/600\n",
      "596/596 [==============================] - 0s 218us/sample - loss: 0.4269 - val_loss: 0.3866\n",
      "Epoch 66/600\n",
      "596/596 [==============================] - 0s 243us/sample - loss: 0.4399 - val_loss: 0.3864\n",
      "Epoch 67/600\n",
      "596/596 [==============================] - 0s 202us/sample - loss: 0.4438 - val_loss: 0.3842\n",
      "Epoch 68/600\n",
      "596/596 [==============================] - 0s 122us/sample - loss: 0.4366 - val_loss: 0.3836\n",
      "Epoch 69/600\n",
      "596/596 [==============================] - 0s 161us/sample - loss: 0.4436 - val_loss: 0.3853\n",
      "Epoch 70/600\n",
      "596/596 [==============================] - 0s 204us/sample - loss: 0.4381 - val_loss: 0.3843\n",
      "Epoch 71/600\n",
      "596/596 [==============================] - 0s 240us/sample - loss: 0.4433 - val_loss: 0.3830\n",
      "Epoch 72/600\n",
      "596/596 [==============================] - 0s 192us/sample - loss: 0.4353 - val_loss: 0.3790\n",
      "Epoch 73/600\n",
      "596/596 [==============================] - 0s 161us/sample - loss: 0.4294 - val_loss: 0.3813\n",
      "Epoch 74/600\n",
      "596/596 [==============================] - 0s 165us/sample - loss: 0.4409 - val_loss: 0.3809\n",
      "Epoch 75/600\n",
      "596/596 [==============================] - 0s 168us/sample - loss: 0.4318 - val_loss: 0.3921\n",
      "Epoch 76/600\n",
      "596/596 [==============================] - 0s 188us/sample - loss: 0.4403 - val_loss: 0.3892\n",
      "Epoch 77/600\n",
      "596/596 [==============================] - 0s 186us/sample - loss: 0.4346 - val_loss: 0.3798\n"
     ]
    },
    {
     "name": "stdout",
     "output_type": "stream",
     "text": [
      "Epoch 78/600\n",
      "596/596 [==============================] - 0s 203us/sample - loss: 0.4160 - val_loss: 0.3774\n",
      "Epoch 79/600\n",
      "596/596 [==============================] - 0s 210us/sample - loss: 0.4289 - val_loss: 0.3795\n",
      "Epoch 80/600\n",
      "596/596 [==============================] - 0s 122us/sample - loss: 0.4186 - val_loss: 0.3764\n",
      "Epoch 81/600\n",
      "596/596 [==============================] - 0s 142us/sample - loss: 0.4387 - val_loss: 0.3820\n",
      "Epoch 82/600\n",
      "596/596 [==============================] - 0s 124us/sample - loss: 0.4331 - val_loss: 0.3781\n",
      "Epoch 83/600\n",
      "596/596 [==============================] - 0s 121us/sample - loss: 0.4391 - val_loss: 0.3793\n",
      "Epoch 84/600\n",
      "596/596 [==============================] - 0s 124us/sample - loss: 0.4329 - val_loss: 0.3790\n",
      "Epoch 85/600\n",
      "596/596 [==============================] - 0s 116us/sample - loss: 0.4222 - val_loss: 0.3810\n",
      "Epoch 86/600\n",
      "596/596 [==============================] - 0s 132us/sample - loss: 0.4365 - val_loss: 0.3814\n",
      "Epoch 87/600\n",
      "596/596 [==============================] - 0s 124us/sample - loss: 0.4279 - val_loss: 0.3793\n",
      "Epoch 88/600\n",
      "596/596 [==============================] - 0s 122us/sample - loss: 0.4293 - val_loss: 0.3795\n",
      "Epoch 89/600\n",
      "596/596 [==============================] - 0s 113us/sample - loss: 0.4256 - val_loss: 0.3788\n",
      "Epoch 90/600\n",
      "596/596 [==============================] - 0s 143us/sample - loss: 0.4317 - val_loss: 0.3804\n",
      "Epoch 91/600\n",
      "596/596 [==============================] - 0s 129us/sample - loss: 0.4489 - val_loss: 0.3819\n",
      "Epoch 92/600\n",
      "596/596 [==============================] - 0s 119us/sample - loss: 0.4276 - val_loss: 0.3789\n",
      "Epoch 93/600\n",
      "596/596 [==============================] - 0s 121us/sample - loss: 0.4372 - val_loss: 0.3814\n",
      "Epoch 94/600\n",
      "596/596 [==============================] - 0s 144us/sample - loss: 0.4209 - val_loss: 0.3785\n",
      "Epoch 95/600\n",
      "596/596 [==============================] - 0s 129us/sample - loss: 0.4320 - val_loss: 0.3739\n",
      "Epoch 96/600\n",
      "596/596 [==============================] - 0s 138us/sample - loss: 0.4441 - val_loss: 0.3844\n",
      "Epoch 97/600\n",
      "596/596 [==============================] - 0s 121us/sample - loss: 0.4347 - val_loss: 0.3830\n",
      "Epoch 98/600\n",
      "596/596 [==============================] - 0s 118us/sample - loss: 0.4208 - val_loss: 0.3805\n",
      "Epoch 99/600\n",
      "596/596 [==============================] - 0s 122us/sample - loss: 0.4365 - val_loss: 0.3833\n",
      "Epoch 100/600\n",
      "596/596 [==============================] - 0s 118us/sample - loss: 0.4324 - val_loss: 0.3865\n",
      "Epoch 101/600\n",
      "596/596 [==============================] - 0s 142us/sample - loss: 0.4168 - val_loss: 0.3786\n",
      "Epoch 102/600\n",
      "596/596 [==============================] - 0s 122us/sample - loss: 0.4252 - val_loss: 0.3808\n",
      "Epoch 103/600\n",
      "596/596 [==============================] - 0s 121us/sample - loss: 0.4229 - val_loss: 0.3792\n",
      "Epoch 104/600\n",
      "596/596 [==============================] - 0s 121us/sample - loss: 0.4226 - val_loss: 0.3765\n",
      "Epoch 105/600\n",
      "596/596 [==============================] - 0s 118us/sample - loss: 0.4162 - val_loss: 0.3768\n",
      "Epoch 106/600\n",
      "596/596 [==============================] - 0s 122us/sample - loss: 0.4298 - val_loss: 0.3711\n",
      "Epoch 107/600\n",
      "596/596 [==============================] - 0s 138us/sample - loss: 0.4278 - val_loss: 0.3776\n",
      "Epoch 108/600\n",
      "596/596 [==============================] - 0s 132us/sample - loss: 0.4235 - val_loss: 0.3729\n",
      "Epoch 109/600\n",
      "596/596 [==============================] - 0s 119us/sample - loss: 0.4267 - val_loss: 0.3793\n",
      "Epoch 110/600\n",
      "596/596 [==============================] - 0s 126us/sample - loss: 0.4271 - val_loss: 0.3745\n",
      "Epoch 111/600\n",
      "596/596 [==============================] - 0s 115us/sample - loss: 0.4199 - val_loss: 0.3732\n",
      "Epoch 112/600\n",
      "596/596 [==============================] - 0s 142us/sample - loss: 0.4177 - val_loss: 0.3727\n",
      "Epoch 113/600\n",
      "596/596 [==============================] - 0s 130us/sample - loss: 0.4225 - val_loss: 0.3772\n",
      "Epoch 114/600\n",
      "596/596 [==============================] - 0s 121us/sample - loss: 0.4170 - val_loss: 0.3741\n",
      "Epoch 115/600\n",
      "596/596 [==============================] - 0s 125us/sample - loss: 0.4141 - val_loss: 0.3763\n",
      "Epoch 116/600\n",
      "596/596 [==============================] - 0s 114us/sample - loss: 0.4137 - val_loss: 0.3678\n",
      "Epoch 117/600\n",
      "596/596 [==============================] - 0s 144us/sample - loss: 0.4275 - val_loss: 0.3759\n",
      "Epoch 118/600\n",
      "596/596 [==============================] - 0s 142us/sample - loss: 0.4210 - val_loss: 0.3737\n",
      "Epoch 119/600\n",
      "596/596 [==============================] - 0s 167us/sample - loss: 0.4188 - val_loss: 0.3751\n",
      "Epoch 120/600\n",
      "596/596 [==============================] - 0s 143us/sample - loss: 0.4281 - val_loss: 0.3731\n",
      "Epoch 121/600\n",
      "596/596 [==============================] - 0s 126us/sample - loss: 0.4222 - val_loss: 0.3763\n",
      "Epoch 122/600\n",
      "596/596 [==============================] - 0s 111us/sample - loss: 0.4091 - val_loss: 0.3724\n",
      "Epoch 123/600\n",
      "596/596 [==============================] - 0s 108us/sample - loss: 0.4141 - val_loss: 0.3741\n",
      "Epoch 124/600\n",
      "596/596 [==============================] - 0s 115us/sample - loss: 0.4024 - val_loss: 0.3739\n",
      "Epoch 125/600\n",
      "596/596 [==============================] - 0s 112us/sample - loss: 0.4230 - val_loss: 0.3717\n",
      "Epoch 126/600\n",
      "596/596 [==============================] - 0s 143us/sample - loss: 0.4187 - val_loss: 0.3701\n",
      "Epoch 127/600\n",
      "596/596 [==============================] - 0s 125us/sample - loss: 0.4104 - val_loss: 0.3747\n",
      "Epoch 128/600\n",
      "596/596 [==============================] - 0s 112us/sample - loss: 0.4268 - val_loss: 0.3740\n",
      "Epoch 129/600\n",
      "596/596 [==============================] - 0s 114us/sample - loss: 0.4084 - val_loss: 0.3755\n",
      "Epoch 130/600\n",
      "596/596 [==============================] - 0s 116us/sample - loss: 0.4190 - val_loss: 0.3775\n",
      "Epoch 131/600\n",
      "596/596 [==============================] - 0s 147us/sample - loss: 0.4232 - val_loss: 0.3802\n",
      "Epoch 132/600\n",
      "596/596 [==============================] - 0s 125us/sample - loss: 0.4165 - val_loss: 0.3758\n",
      "Epoch 133/600\n",
      "596/596 [==============================] - 0s 138us/sample - loss: 0.4179 - val_loss: 0.3825\n",
      "Epoch 134/600\n",
      "596/596 [==============================] - 0s 135us/sample - loss: 0.4141 - val_loss: 0.3739\n",
      "Epoch 135/600\n",
      "596/596 [==============================] - 0s 156us/sample - loss: 0.4303 - val_loss: 0.3727\n",
      "Epoch 136/600\n",
      "596/596 [==============================] - 0s 120us/sample - loss: 0.4107 - val_loss: 0.3696\n",
      "Epoch 137/600\n",
      "596/596 [==============================] - 0s 115us/sample - loss: 0.4083 - val_loss: 0.3691\n",
      "Epoch 138/600\n",
      "596/596 [==============================] - 0s 151us/sample - loss: 0.4121 - val_loss: 0.3708\n",
      "Epoch 139/600\n",
      "596/596 [==============================] - 0s 121us/sample - loss: 0.4146 - val_loss: 0.3747\n",
      "Epoch 140/600\n",
      "596/596 [==============================] - 0s 139us/sample - loss: 0.4186 - val_loss: 0.3713\n",
      "Epoch 141/600\n",
      "596/596 [==============================] - 0s 149us/sample - loss: 0.4227 - val_loss: 0.3758\n",
      "Epoch 142/600\n",
      "596/596 [==============================] - 0s 119us/sample - loss: 0.4218 - val_loss: 0.3766\n",
      "Epoch 143/600\n",
      "596/596 [==============================] - 0s 118us/sample - loss: 0.4155 - val_loss: 0.3738\n",
      "Epoch 144/600\n",
      "596/596 [==============================] - 0s 144us/sample - loss: 0.4246 - val_loss: 0.3740\n",
      "Epoch 145/600\n",
      "596/596 [==============================] - 0s 144us/sample - loss: 0.4154 - val_loss: 0.3749\n",
      "Epoch 146/600\n",
      "596/596 [==============================] - 0s 155us/sample - loss: 0.4104 - val_loss: 0.3745\n",
      "Epoch 147/600\n",
      "596/596 [==============================] - 0s 117us/sample - loss: 0.4091 - val_loss: 0.3742\n",
      "Epoch 148/600\n",
      "596/596 [==============================] - 0s 114us/sample - loss: 0.4049 - val_loss: 0.3716\n",
      "Epoch 149/600\n",
      "596/596 [==============================] - 0s 141us/sample - loss: 0.4119 - val_loss: 0.3711\n",
      "Epoch 150/600\n",
      "596/596 [==============================] - 0s 117us/sample - loss: 0.4148 - val_loss: 0.3756\n",
      "Epoch 151/600\n",
      "596/596 [==============================] - 0s 146us/sample - loss: 0.4063 - val_loss: 0.3807\n",
      "Epoch 152/600\n",
      "596/596 [==============================] - 0s 155us/sample - loss: 0.4062 - val_loss: 0.3817\n",
      "Epoch 153/600\n",
      "596/596 [==============================] - 0s 287us/sample - loss: 0.4268 - val_loss: 0.3804\n",
      "Epoch 154/600\n",
      "596/596 [==============================] - 0s 195us/sample - loss: 0.4139 - val_loss: 0.3785\n"
     ]
    },
    {
     "name": "stdout",
     "output_type": "stream",
     "text": [
      "Epoch 155/600\n",
      "596/596 [==============================] - 0s 159us/sample - loss: 0.4188 - val_loss: 0.3739\n",
      "Epoch 156/600\n",
      "596/596 [==============================] - 0s 133us/sample - loss: 0.4066 - val_loss: 0.3736\n",
      "Epoch 157/600\n",
      "596/596 [==============================] - 0s 159us/sample - loss: 0.3947 - val_loss: 0.3733\n",
      "Epoch 158/600\n",
      "596/596 [==============================] - 0s 148us/sample - loss: 0.4135 - val_loss: 0.3697\n",
      "Epoch 159/600\n",
      "596/596 [==============================] - 0s 161us/sample - loss: 0.4133 - val_loss: 0.3734\n",
      "Epoch 160/600\n",
      "596/596 [==============================] - 0s 128us/sample - loss: 0.4116 - val_loss: 0.3687\n",
      "Epoch 161/600\n",
      "596/596 [==============================] - 0s 156us/sample - loss: 0.4040 - val_loss: 0.3684\n",
      "Epoch 162/600\n",
      "596/596 [==============================] - 0s 129us/sample - loss: 0.4125 - val_loss: 0.3681\n",
      "Epoch 163/600\n",
      "596/596 [==============================] - 0s 147us/sample - loss: 0.4200 - val_loss: 0.3713\n",
      "Epoch 164/600\n",
      "596/596 [==============================] - 0s 134us/sample - loss: 0.4129 - val_loss: 0.3713\n",
      "Epoch 165/600\n",
      "596/596 [==============================] - 0s 156us/sample - loss: 0.4108 - val_loss: 0.3757\n",
      "Epoch 166/600\n",
      "596/596 [==============================] - 0s 144us/sample - loss: 0.4204 - val_loss: 0.3695\n",
      "Epoch 167/600\n",
      "596/596 [==============================] - 0s 163us/sample - loss: 0.4119 - val_loss: 0.3711\n",
      "Epoch 168/600\n",
      "596/596 [==============================] - 0s 141us/sample - loss: 0.4012 - val_loss: 0.3789\n",
      "Epoch 169/600\n",
      "596/596 [==============================] - 0s 136us/sample - loss: 0.4114 - val_loss: 0.3704\n",
      "Epoch 170/600\n",
      "596/596 [==============================] - 0s 134us/sample - loss: 0.4256 - val_loss: 0.3763\n",
      "Epoch 171/600\n",
      "596/596 [==============================] - 0s 134us/sample - loss: 0.4115 - val_loss: 0.3748\n",
      "Epoch 172/600\n",
      "596/596 [==============================] - 0s 160us/sample - loss: 0.4130 - val_loss: 0.3771\n",
      "Epoch 173/600\n",
      "596/596 [==============================] - 0s 159us/sample - loss: 0.4124 - val_loss: 0.3676\n",
      "Epoch 174/600\n",
      "596/596 [==============================] - 0s 153us/sample - loss: 0.4080 - val_loss: 0.3748\n",
      "Epoch 175/600\n",
      "596/596 [==============================] - 0s 248us/sample - loss: 0.4120 - val_loss: 0.3713\n",
      "Epoch 176/600\n",
      "596/596 [==============================] - 0s 202us/sample - loss: 0.3951 - val_loss: 0.3717\n",
      "Epoch 177/600\n",
      "596/596 [==============================] - 0s 169us/sample - loss: 0.4079 - val_loss: 0.3797\n",
      "Epoch 178/600\n",
      "596/596 [==============================] - 0s 164us/sample - loss: 0.4049 - val_loss: 0.3736\n",
      "Epoch 179/600\n",
      "596/596 [==============================] - 0s 137us/sample - loss: 0.3998 - val_loss: 0.3776\n",
      "Epoch 180/600\n",
      "596/596 [==============================] - 0s 126us/sample - loss: 0.4097 - val_loss: 0.3713\n",
      "Epoch 181/600\n",
      "596/596 [==============================] - 0s 123us/sample - loss: 0.4042 - val_loss: 0.3769\n",
      "Epoch 182/600\n",
      "596/596 [==============================] - 0s 157us/sample - loss: 0.4064 - val_loss: 0.3810\n",
      "Epoch 183/600\n",
      "596/596 [==============================] - 0s 152us/sample - loss: 0.4089 - val_loss: 0.3758\n",
      "Epoch 184/600\n",
      "596/596 [==============================] - 0s 151us/sample - loss: 0.4027 - val_loss: 0.3735\n",
      "Epoch 185/600\n",
      "596/596 [==============================] - 0s 151us/sample - loss: 0.3953 - val_loss: 0.3716\n",
      "Epoch 186/600\n",
      "596/596 [==============================] - 0s 147us/sample - loss: 0.4096 - val_loss: 0.3699\n",
      "Epoch 187/600\n",
      "596/596 [==============================] - 0s 146us/sample - loss: 0.4099 - val_loss: 0.3757\n",
      "Epoch 188/600\n",
      "596/596 [==============================] - 0s 124us/sample - loss: 0.3995 - val_loss: 0.3730\n",
      "Epoch 189/600\n",
      "596/596 [==============================] - 0s 123us/sample - loss: 0.4137 - val_loss: 0.3686\n",
      "Epoch 190/600\n",
      "596/596 [==============================] - 0s 165us/sample - loss: 0.3958 - val_loss: 0.3725\n",
      "Epoch 191/600\n",
      "596/596 [==============================] - 0s 122us/sample - loss: 0.4019 - val_loss: 0.3701\n",
      "Epoch 192/600\n",
      "596/596 [==============================] - 0s 146us/sample - loss: 0.4031 - val_loss: 0.3698\n",
      "Epoch 193/600\n",
      "596/596 [==============================] - 0s 144us/sample - loss: 0.3927 - val_loss: 0.3671\n",
      "Epoch 194/600\n",
      "596/596 [==============================] - 0s 160us/sample - loss: 0.4152 - val_loss: 0.3668\n",
      "Epoch 195/600\n",
      "596/596 [==============================] - 0s 149us/sample - loss: 0.3975 - val_loss: 0.3669\n",
      "Epoch 196/600\n",
      "596/596 [==============================] - 0s 173us/sample - loss: 0.3849 - val_loss: 0.3667\n",
      "Epoch 197/600\n",
      "596/596 [==============================] - 0s 173us/sample - loss: 0.3953 - val_loss: 0.3631\n",
      "Epoch 198/600\n",
      "596/596 [==============================] - 0s 152us/sample - loss: 0.4166 - val_loss: 0.3681\n",
      "Epoch 199/600\n",
      "596/596 [==============================] - 0s 173us/sample - loss: 0.4055 - val_loss: 0.3703\n",
      "Epoch 200/600\n",
      "596/596 [==============================] - 0s 131us/sample - loss: 0.3856 - val_loss: 0.3635\n",
      "Epoch 201/600\n",
      "596/596 [==============================] - 0s 163us/sample - loss: 0.4008 - val_loss: 0.3667\n",
      "Epoch 202/600\n",
      "596/596 [==============================] - 0s 142us/sample - loss: 0.3919 - val_loss: 0.3691\n",
      "Epoch 203/600\n",
      "596/596 [==============================] - 0s 143us/sample - loss: 0.4159 - val_loss: 0.3668\n",
      "Epoch 204/600\n",
      "596/596 [==============================] - 0s 164us/sample - loss: 0.4110 - val_loss: 0.3705\n",
      "Epoch 205/600\n",
      "596/596 [==============================] - 0s 168us/sample - loss: 0.4109 - val_loss: 0.3718\n",
      "Epoch 206/600\n",
      "596/596 [==============================] - 0s 164us/sample - loss: 0.4154 - val_loss: 0.3753\n",
      "Epoch 207/600\n",
      "596/596 [==============================] - 0s 175us/sample - loss: 0.4015 - val_loss: 0.3703\n",
      "Epoch 208/600\n",
      "596/596 [==============================] - 0s 189us/sample - loss: 0.4113 - val_loss: 0.3646\n",
      "Epoch 209/600\n",
      "596/596 [==============================] - 0s 171us/sample - loss: 0.3912 - val_loss: 0.3697\n",
      "Epoch 210/600\n",
      "596/596 [==============================] - 0s 187us/sample - loss: 0.4109 - val_loss: 0.3683\n",
      "Epoch 211/600\n",
      "596/596 [==============================] - 0s 175us/sample - loss: 0.3917 - val_loss: 0.3684\n",
      "Epoch 212/600\n",
      "596/596 [==============================] - 0s 178us/sample - loss: 0.3901 - val_loss: 0.3666\n",
      "Epoch 213/600\n",
      "596/596 [==============================] - 0s 176us/sample - loss: 0.4084 - val_loss: 0.3649\n",
      "Epoch 214/600\n",
      "596/596 [==============================] - 0s 154us/sample - loss: 0.3906 - val_loss: 0.3655\n",
      "Epoch 215/600\n",
      "596/596 [==============================] - 0s 162us/sample - loss: 0.3998 - val_loss: 0.3676\n",
      "Epoch 216/600\n",
      "596/596 [==============================] - 0s 124us/sample - loss: 0.4022 - val_loss: 0.3666\n",
      "Epoch 217/600\n",
      "596/596 [==============================] - 0s 166us/sample - loss: 0.3953 - val_loss: 0.3706\n",
      "Epoch 218/600\n",
      "596/596 [==============================] - 0s 175us/sample - loss: 0.4111 - val_loss: 0.3689\n",
      "Epoch 219/600\n",
      "596/596 [==============================] - 0s 158us/sample - loss: 0.3937 - val_loss: 0.3649\n",
      "Epoch 220/600\n",
      "596/596 [==============================] - 0s 183us/sample - loss: 0.3953 - val_loss: 0.3642\n",
      "Epoch 221/600\n",
      "596/596 [==============================] - 0s 159us/sample - loss: 0.3935 - val_loss: 0.3670\n",
      "Epoch 222/600\n",
      "596/596 [==============================] - 0s 159us/sample - loss: 0.3959 - val_loss: 0.3670\n",
      "Epoch 223/600\n",
      "596/596 [==============================] - 0s 162us/sample - loss: 0.3892 - val_loss: 0.3645\n",
      "Epoch 224/600\n",
      "596/596 [==============================] - 0s 177us/sample - loss: 0.3956 - val_loss: 0.3641\n",
      "Epoch 225/600\n",
      "596/596 [==============================] - 0s 165us/sample - loss: 0.3997 - val_loss: 0.3685\n",
      "Epoch 226/600\n",
      "596/596 [==============================] - 0s 161us/sample - loss: 0.3941 - val_loss: 0.3668\n",
      "Epoch 227/600\n",
      "596/596 [==============================] - 0s 190us/sample - loss: 0.4083 - val_loss: 0.3729\n",
      "Epoch 228/600\n",
      "596/596 [==============================] - 0s 176us/sample - loss: 0.3926 - val_loss: 0.3727\n",
      "Epoch 229/600\n",
      "596/596 [==============================] - 0s 179us/sample - loss: 0.3919 - val_loss: 0.3735\n",
      "Epoch 230/600\n",
      "596/596 [==============================] - 0s 172us/sample - loss: 0.3958 - val_loss: 0.3690\n",
      "Epoch 231/600\n"
     ]
    },
    {
     "name": "stdout",
     "output_type": "stream",
     "text": [
      "596/596 [==============================] - 0s 186us/sample - loss: 0.4076 - val_loss: 0.3690\n",
      "Epoch 232/600\n",
      "596/596 [==============================] - 0s 144us/sample - loss: 0.3970 - val_loss: 0.3664\n",
      "Epoch 233/600\n",
      "596/596 [==============================] - 0s 156us/sample - loss: 0.4027 - val_loss: 0.3712\n",
      "Epoch 234/600\n",
      "596/596 [==============================] - 0s 146us/sample - loss: 0.4031 - val_loss: 0.3659\n",
      "Epoch 235/600\n",
      "596/596 [==============================] - 0s 168us/sample - loss: 0.3801 - val_loss: 0.3645\n",
      "Epoch 236/600\n",
      "596/596 [==============================] - 0s 144us/sample - loss: 0.3963 - val_loss: 0.3657\n",
      "Epoch 237/600\n",
      "596/596 [==============================] - 0s 149us/sample - loss: 0.4046 - val_loss: 0.3690\n",
      "Epoch 238/600\n",
      "596/596 [==============================] - 0s 120us/sample - loss: 0.3929 - val_loss: 0.3723\n",
      "Epoch 239/600\n",
      "596/596 [==============================] - 0s 167us/sample - loss: 0.3968 - val_loss: 0.3701\n",
      "Epoch 240/600\n",
      "596/596 [==============================] - 0s 147us/sample - loss: 0.3952 - val_loss: 0.3655\n",
      "Epoch 241/600\n",
      "596/596 [==============================] - 0s 190us/sample - loss: 0.4006 - val_loss: 0.3647\n",
      "Epoch 242/600\n",
      "596/596 [==============================] - 0s 155us/sample - loss: 0.3908 - val_loss: 0.3674\n",
      "Epoch 243/600\n",
      "596/596 [==============================] - 0s 164us/sample - loss: 0.4009 - val_loss: 0.3654\n",
      "Epoch 244/600\n",
      "596/596 [==============================] - 0s 165us/sample - loss: 0.4005 - val_loss: 0.3585\n",
      "Epoch 245/600\n",
      "596/596 [==============================] - 0s 186us/sample - loss: 0.3874 - val_loss: 0.3621\n",
      "Epoch 246/600\n",
      "596/596 [==============================] - 0s 153us/sample - loss: 0.3867 - val_loss: 0.3685\n",
      "Epoch 247/600\n",
      "596/596 [==============================] - 0s 156us/sample - loss: 0.3954 - val_loss: 0.3721\n",
      "Epoch 248/600\n",
      "596/596 [==============================] - 0s 154us/sample - loss: 0.4130 - val_loss: 0.3754\n",
      "Epoch 249/600\n",
      "596/596 [==============================] - 0s 157us/sample - loss: 0.4013 - val_loss: 0.3690\n",
      "Epoch 250/600\n",
      "596/596 [==============================] - 0s 157us/sample - loss: 0.3986 - val_loss: 0.3691\n",
      "Epoch 251/600\n",
      "596/596 [==============================] - 0s 168us/sample - loss: 0.3855 - val_loss: 0.3711\n",
      "Epoch 252/600\n",
      "596/596 [==============================] - 0s 165us/sample - loss: 0.4014 - val_loss: 0.3683\n",
      "Epoch 253/600\n",
      "596/596 [==============================] - 0s 200us/sample - loss: 0.3897 - val_loss: 0.3741\n",
      "Epoch 254/600\n",
      "596/596 [==============================] - 0s 166us/sample - loss: 0.3901 - val_loss: 0.3668\n",
      "Epoch 255/600\n",
      "596/596 [==============================] - 0s 120us/sample - loss: 0.3834 - val_loss: 0.3691\n",
      "Epoch 256/600\n",
      "596/596 [==============================] - 0s 177us/sample - loss: 0.3798 - val_loss: 0.3711\n",
      "Epoch 257/600\n",
      "596/596 [==============================] - 0s 170us/sample - loss: 0.4012 - val_loss: 0.3677\n",
      "Epoch 258/600\n",
      "596/596 [==============================] - 0s 152us/sample - loss: 0.3821 - val_loss: 0.3668\n",
      "Epoch 259/600\n",
      "596/596 [==============================] - 0s 171us/sample - loss: 0.4139 - val_loss: 0.3677\n",
      "Epoch 260/600\n",
      "596/596 [==============================] - 0s 164us/sample - loss: 0.4033 - val_loss: 0.3612\n",
      "Epoch 261/600\n",
      "596/596 [==============================] - 0s 209us/sample - loss: 0.3924 - val_loss: 0.3673\n",
      "Epoch 262/600\n",
      "596/596 [==============================] - 0s 161us/sample - loss: 0.3925 - val_loss: 0.3629\n",
      "Epoch 263/600\n",
      "596/596 [==============================] - 0s 162us/sample - loss: 0.3861 - val_loss: 0.3602\n",
      "Epoch 264/600\n",
      "596/596 [==============================] - 0s 142us/sample - loss: 0.3866 - val_loss: 0.3710\n",
      "Epoch 265/600\n",
      "596/596 [==============================] - 0s 156us/sample - loss: 0.3827 - val_loss: 0.3684\n",
      "Epoch 266/600\n",
      "596/596 [==============================] - 0s 172us/sample - loss: 0.4055 - val_loss: 0.3599\n",
      "Epoch 267/600\n",
      "596/596 [==============================] - 0s 182us/sample - loss: 0.3965 - val_loss: 0.3620\n",
      "Epoch 268/600\n",
      "596/596 [==============================] - 0s 161us/sample - loss: 0.3825 - val_loss: 0.3681\n",
      "Epoch 269/600\n",
      "596/596 [==============================] - 0s 177us/sample - loss: 0.3892 - val_loss: 0.3671\n",
      "Epoch 270/600\n",
      "596/596 [==============================] - 0s 146us/sample - loss: 0.3981 - val_loss: 0.3639\n",
      "Epoch 271/600\n",
      "596/596 [==============================] - 0s 178us/sample - loss: 0.3715 - val_loss: 0.3623\n",
      "Epoch 272/600\n",
      "596/596 [==============================] - 0s 160us/sample - loss: 0.3963 - val_loss: 0.3703\n",
      "Epoch 273/600\n",
      "596/596 [==============================] - 0s 189us/sample - loss: 0.3853 - val_loss: 0.3674\n",
      "Epoch 274/600\n",
      "596/596 [==============================] - 0s 167us/sample - loss: 0.3870 - val_loss: 0.3647\n",
      "Epoch 275/600\n",
      "596/596 [==============================] - 0s 156us/sample - loss: 0.3826 - val_loss: 0.3682\n",
      "Epoch 276/600\n",
      "596/596 [==============================] - 0s 165us/sample - loss: 0.3800 - val_loss: 0.3637\n",
      "Epoch 277/600\n",
      "596/596 [==============================] - 0s 151us/sample - loss: 0.3757 - val_loss: 0.3628\n",
      "Epoch 278/600\n",
      "596/596 [==============================] - 0s 129us/sample - loss: 0.3835 - val_loss: 0.3603\n",
      "Epoch 279/600\n",
      "596/596 [==============================] - 0s 191us/sample - loss: 0.3965 - val_loss: 0.3658\n",
      "Epoch 280/600\n",
      "596/596 [==============================] - 0s 158us/sample - loss: 0.3928 - val_loss: 0.3753\n",
      "Epoch 281/600\n",
      "596/596 [==============================] - 0s 174us/sample - loss: 0.3763 - val_loss: 0.3702\n",
      "Epoch 282/600\n",
      "596/596 [==============================] - 0s 155us/sample - loss: 0.3909 - val_loss: 0.3682\n",
      "Epoch 283/600\n",
      "596/596 [==============================] - 0s 163us/sample - loss: 0.3924 - val_loss: 0.3672\n",
      "Epoch 284/600\n",
      "596/596 [==============================] - 0s 153us/sample - loss: 0.3962 - val_loss: 0.3645\n",
      "Epoch 285/600\n",
      "596/596 [==============================] - 0s 167us/sample - loss: 0.3792 - val_loss: 0.3748\n",
      "Epoch 286/600\n",
      "596/596 [==============================] - 0s 159us/sample - loss: 0.3858 - val_loss: 0.3722\n",
      "Epoch 287/600\n",
      "596/596 [==============================] - 0s 187us/sample - loss: 0.3799 - val_loss: 0.3716\n",
      "Epoch 288/600\n",
      "596/596 [==============================] - 0s 172us/sample - loss: 0.3817 - val_loss: 0.3756\n",
      "Epoch 289/600\n",
      "596/596 [==============================] - 0s 172us/sample - loss: 0.3947 - val_loss: 0.3668\n",
      "Epoch 290/600\n",
      "596/596 [==============================] - 0s 173us/sample - loss: 0.3763 - val_loss: 0.3692\n",
      "Epoch 291/600\n",
      "596/596 [==============================] - 0s 170us/sample - loss: 0.3739 - val_loss: 0.3655\n",
      "Epoch 292/600\n",
      "596/596 [==============================] - 0s 168us/sample - loss: 0.3885 - val_loss: 0.3721\n",
      "Epoch 293/600\n",
      "596/596 [==============================] - 0s 162us/sample - loss: 0.3783 - val_loss: 0.3699\n",
      "Epoch 294/600\n",
      "596/596 [==============================] - 0s 154us/sample - loss: 0.4025 - val_loss: 0.3682\n",
      "Epoch 295/600\n",
      "596/596 [==============================] - 0s 181us/sample - loss: 0.3842 - val_loss: 0.3698\n",
      "Epoch 296/600\n",
      "596/596 [==============================] - 0s 175us/sample - loss: 0.3772 - val_loss: 0.3701\n",
      "Epoch 297/600\n",
      "596/596 [==============================] - 0s 152us/sample - loss: 0.3827 - val_loss: 0.3685\n",
      "Epoch 298/600\n",
      "596/596 [==============================] - 0s 195us/sample - loss: 0.3859 - val_loss: 0.3663\n",
      "Epoch 299/600\n",
      "596/596 [==============================] - 0s 96us/sample - loss: 0.3910 - val_loss: 0.3679\n",
      "Epoch 300/600\n",
      "596/596 [==============================] - 0s 106us/sample - loss: 0.4034 - val_loss: 0.3680\n",
      "Epoch 301/600\n",
      "596/596 [==============================] - 0s 122us/sample - loss: 0.3723 - val_loss: 0.3629\n",
      "Epoch 302/600\n",
      "596/596 [==============================] - 0s 110us/sample - loss: 0.3975 - val_loss: 0.3718\n",
      "Epoch 303/600\n",
      "596/596 [==============================] - 0s 117us/sample - loss: 0.3846 - val_loss: 0.3752\n",
      "Epoch 304/600\n",
      "596/596 [==============================] - 0s 213us/sample - loss: 0.3921 - val_loss: 0.3758\n",
      "Epoch 305/600\n",
      "596/596 [==============================] - 0s 160us/sample - loss: 0.3822 - val_loss: 0.3707\n",
      "Epoch 306/600\n",
      "596/596 [==============================] - 0s 129us/sample - loss: 0.3872 - val_loss: 0.3649\n",
      "Epoch 307/600\n"
     ]
    },
    {
     "name": "stdout",
     "output_type": "stream",
     "text": [
      "596/596 [==============================] - 0s 187us/sample - loss: 0.3825 - val_loss: 0.3642\n",
      "Epoch 308/600\n",
      "596/596 [==============================] - 0s 148us/sample - loss: 0.3785 - val_loss: 0.3711\n",
      "Epoch 309/600\n",
      "596/596 [==============================] - 0s 167us/sample - loss: 0.3822 - val_loss: 0.3673\n",
      "Epoch 310/600\n",
      "596/596 [==============================] - 0s 143us/sample - loss: 0.4015 - val_loss: 0.3685\n",
      "Epoch 311/600\n",
      "596/596 [==============================] - 0s 147us/sample - loss: 0.3768 - val_loss: 0.3689\n",
      "Epoch 312/600\n",
      "596/596 [==============================] - 0s 156us/sample - loss: 0.3913 - val_loss: 0.3762\n",
      "Epoch 313/600\n",
      "596/596 [==============================] - 0s 156us/sample - loss: 0.3789 - val_loss: 0.3718\n",
      "Epoch 314/600\n",
      "596/596 [==============================] - 0s 148us/sample - loss: 0.3816 - val_loss: 0.3657\n",
      "Epoch 315/600\n",
      "596/596 [==============================] - 0s 155us/sample - loss: 0.3968 - val_loss: 0.3666\n",
      "Epoch 316/600\n",
      "596/596 [==============================] - 0s 156us/sample - loss: 0.3749 - val_loss: 0.3675\n",
      "Epoch 317/600\n",
      "596/596 [==============================] - 0s 148us/sample - loss: 0.3836 - val_loss: 0.3719\n",
      "Epoch 318/600\n",
      "596/596 [==============================] - 0s 132us/sample - loss: 0.3851 - val_loss: 0.3703\n",
      "Epoch 319/600\n",
      "596/596 [==============================] - 0s 160us/sample - loss: 0.3699 - val_loss: 0.3634\n",
      "Epoch 320/600\n",
      "596/596 [==============================] - 0s 122us/sample - loss: 0.3822 - val_loss: 0.3639\n",
      "Epoch 321/600\n",
      "596/596 [==============================] - 0s 162us/sample - loss: 0.3886 - val_loss: 0.3659\n",
      "Epoch 322/600\n",
      "596/596 [==============================] - 0s 125us/sample - loss: 0.3900 - val_loss: 0.3666\n",
      "Epoch 323/600\n",
      "596/596 [==============================] - 0s 123us/sample - loss: 0.3880 - val_loss: 0.3649\n",
      "Epoch 324/600\n",
      "596/596 [==============================] - 0s 150us/sample - loss: 0.3869 - val_loss: 0.3694\n",
      "Epoch 325/600\n",
      "596/596 [==============================] - 0s 181us/sample - loss: 0.3890 - val_loss: 0.3670\n",
      "Epoch 326/600\n",
      "596/596 [==============================] - 0s 196us/sample - loss: 0.3882 - val_loss: 0.3637\n",
      "Epoch 327/600\n",
      "596/596 [==============================] - 0s 158us/sample - loss: 0.3881 - val_loss: 0.3673\n",
      "Epoch 328/600\n",
      "596/596 [==============================] - 0s 146us/sample - loss: 0.3758 - val_loss: 0.3683\n",
      "Epoch 329/600\n",
      "596/596 [==============================] - 0s 144us/sample - loss: 0.3824 - val_loss: 0.3635\n",
      "Epoch 330/600\n",
      "596/596 [==============================] - 0s 163us/sample - loss: 0.4021 - val_loss: 0.3631\n",
      "Epoch 331/600\n",
      "596/596 [==============================] - 0s 145us/sample - loss: 0.3703 - val_loss: 0.3659\n",
      "Epoch 332/600\n",
      "596/596 [==============================] - 0s 161us/sample - loss: 0.3666 - val_loss: 0.3679\n",
      "Epoch 333/600\n",
      "596/596 [==============================] - 0s 166us/sample - loss: 0.3911 - val_loss: 0.3671\n",
      "Epoch 334/600\n",
      "596/596 [==============================] - 0s 153us/sample - loss: 0.3735 - val_loss: 0.3641\n",
      "Epoch 335/600\n",
      "596/596 [==============================] - 0s 152us/sample - loss: 0.3864 - val_loss: 0.3688\n",
      "Epoch 336/600\n",
      "596/596 [==============================] - 0s 158us/sample - loss: 0.3734 - val_loss: 0.3677\n",
      "Epoch 337/600\n",
      "596/596 [==============================] - 0s 145us/sample - loss: 0.3814 - val_loss: 0.3650\n",
      "Epoch 338/600\n",
      "596/596 [==============================] - 0s 120us/sample - loss: 0.3599 - val_loss: 0.3615\n",
      "Epoch 339/600\n",
      "596/596 [==============================] - 0s 145us/sample - loss: 0.3910 - val_loss: 0.3637\n",
      "Epoch 340/600\n",
      "596/596 [==============================] - 0s 147us/sample - loss: 0.3728 - val_loss: 0.3651\n",
      "Epoch 341/600\n",
      "596/596 [==============================] - 0s 150us/sample - loss: 0.4001 - val_loss: 0.3680\n",
      "Epoch 342/600\n",
      "596/596 [==============================] - 0s 122us/sample - loss: 0.3983 - val_loss: 0.3666\n",
      "Epoch 343/600\n",
      "596/596 [==============================] - 0s 145us/sample - loss: 0.3792 - val_loss: 0.3619\n",
      "Epoch 344/600\n",
      "596/596 [==============================] - 0s 162us/sample - loss: 0.3787 - val_loss: 0.3667\n",
      "Epoch 00344: early stopping\n"
     ]
    },
    {
     "data": {
      "text/plain": [
       "<tensorflow.python.keras.callbacks.History at 0x7f6de8310c50>"
      ]
     },
     "execution_count": 360,
     "metadata": {},
     "output_type": "execute_result"
    }
   ],
   "source": [
    "model.fit(x=X_train, \n",
    "          y=y_train,\n",
    "          epochs=600,\n",
    "          validation_data=(X_test, y_test), verbose=1,\n",
    "          callbacks=[early_stop]\n",
    "          )"
   ]
  },
  {
   "cell_type": "code",
   "execution_count": 368,
   "metadata": {},
   "outputs": [
    {
     "data": {
      "text/plain": [
       "RandomForestClassifier(bootstrap=True, ccp_alpha=0.0, class_weight=None,\n",
       "                       criterion='gini', max_depth=12, max_features='auto',\n",
       "                       max_leaf_nodes=None, max_samples=None,\n",
       "                       min_impurity_decrease=0.0, min_impurity_split=None,\n",
       "                       min_samples_leaf=1, min_samples_split=2,\n",
       "                       min_weight_fraction_leaf=0.0, n_estimators=200,\n",
       "                       n_jobs=None, oob_score=False, random_state=None,\n",
       "                       verbose=0, warm_start=False)"
      ]
     },
     "execution_count": 368,
     "metadata": {},
     "output_type": "execute_result"
    }
   ],
   "source": [
    "from sklearn.ensemble import RandomForestClassifier\n",
    "rfc = RandomForestClassifier(n_estimators=200,max_depth=12)\n",
    "rfc.fit(X_train,y_train)"
   ]
  },
  {
   "cell_type": "code",
   "execution_count": 369,
   "metadata": {},
   "outputs": [
    {
     "data": {
      "text/plain": [
       "LogisticRegression(C=1.0, class_weight=None, dual=False, fit_intercept=True,\n",
       "                   intercept_scaling=1, l1_ratio=None, max_iter=100,\n",
       "                   multi_class='auto', n_jobs=None, penalty='l2',\n",
       "                   random_state=None, solver='lbfgs', tol=0.0001, verbose=0,\n",
       "                   warm_start=False)"
      ]
     },
     "execution_count": 369,
     "metadata": {},
     "output_type": "execute_result"
    }
   ],
   "source": [
    "from sklearn.linear_model import LogisticRegression\n",
    "logreg = LogisticRegression()\n",
    "logreg.fit(X_train, y_train)"
   ]
  },
  {
   "cell_type": "markdown",
   "metadata": {},
   "source": [
    "## Evaluation"
   ]
  },
  {
   "cell_type": "code",
   "execution_count": 370,
   "metadata": {},
   "outputs": [
    {
     "data": {
      "text/plain": [
       "<matplotlib.axes._subplots.AxesSubplot at 0x7f6de783a350>"
      ]
     },
     "execution_count": 370,
     "metadata": {},
     "output_type": "execute_result"
    },
    {
     "data": {
      "image/png": "[encoded data removed]",
      "text/plain": [
       "<Figure size 432x288 with 1 Axes>"
      ]
     },
     "metadata": {},
     "output_type": "display_data"
    }
   ],
   "source": [
    "model_loss = pd.DataFrame(model.history.history)\n",
    "model_loss.plot()"
   ]
  },
  {
   "cell_type": "code",
   "execution_count": 371,
   "metadata": {},
   "outputs": [],
   "source": [
    "# "
   ]
  },
  {
   "cell_type": "code",
   "execution_count": 372,
   "metadata": {},
   "outputs": [
    {
     "name": "stdout",
     "output_type": "stream",
     "text": [
      "              precision    recall  f1-score   support\n",
      "\n",
      "           0       0.82      0.95      0.88       185\n",
      "           1       0.88      0.65      0.75       110\n",
      "\n",
      "    accuracy                           0.84       295\n",
      "   macro avg       0.85      0.80      0.81       295\n",
      "weighted avg       0.84      0.84      0.83       295\n",
      " \n",
      "\n",
      "[[175  10]\n",
      " [ 38  72]]\n"
     ]
    }
   ],
   "source": [
    "predictions = model.predict_classes(X_test)\n",
    "from sklearn.metrics import classification_report,confusion_matrix\n",
    "print(classification_report(y_test,predictions),'\\n')\n",
    "print(confusion_matrix(y_test,predictions))"
   ]
  },
  {
   "cell_type": "code",
   "execution_count": 373,
   "metadata": {},
   "outputs": [
    {
     "name": "stdout",
     "output_type": "stream",
     "text": [
      "              precision    recall  f1-score   support\n",
      "\n",
      "           0       0.84      0.92      0.88       185\n",
      "           1       0.85      0.70      0.77       110\n",
      "\n",
      "    accuracy                           0.84       295\n",
      "   macro avg       0.84      0.81      0.82       295\n",
      "weighted avg       0.84      0.84      0.84       295\n",
      " \n",
      "\n",
      "[[171  14]\n",
      " [ 33  77]]\n"
     ]
    }
   ],
   "source": [
    "predictions = rfc.predict(X_test)\n",
    "from sklearn.metrics import classification_report,confusion_matrix\n",
    "print(classification_report(y_test,predictions),'\\n')\n",
    "print(confusion_matrix(y_test,predictions))"
   ]
  },
  {
   "cell_type": "code",
   "execution_count": 374,
   "metadata": {},
   "outputs": [
    {
     "name": "stdout",
     "output_type": "stream",
     "text": [
      "              precision    recall  f1-score   support\n",
      "\n",
      "           0       0.85      0.88      0.86       185\n",
      "           1       0.79      0.74      0.76       110\n",
      "\n",
      "    accuracy                           0.83       295\n",
      "   macro avg       0.82      0.81      0.81       295\n",
      "weighted avg       0.83      0.83      0.83       295\n",
      " \n",
      "\n",
      "[[163  22]\n",
      " [ 29  81]]\n"
     ]
    }
   ],
   "source": [
    "predictions = logreg.predict(X_test)\n",
    "from sklearn.metrics import classification_report,confusion_matrix\n",
    "print(classification_report(y_test,predictions),'\\n')\n",
    "print(confusion_matrix(y_test,predictions))"
   ]
  },
  {
   "cell_type": "raw",
   "metadata": {},
   "source": [
    "BASELINE\n",
    "\n",
    "    precision    recall  f1-score   support\n",
    "\n",
    "           0       0.81      0.90      0.85       163\n",
    "           1       0.80      0.67      0.73       105\n",
    "\n",
    "    accuracy                           0.81       268\n",
    "   macro avg       0.81      0.78      0.79       268\n",
    "weighted avg       0.81      0.81      0.80       268\n",
    "\n",
    "[[146  17]\n",
    " [ 35  70]]"
   ]
  },
  {
   "cell_type": "markdown",
   "metadata": {},
   "source": [
    "## Output"
   ]
  },
  {
   "cell_type": "code",
   "execution_count": 323,
   "metadata": {},
   "outputs": [
    {
     "data": {
      "text/html": [
       "<div>\n",
       "<style scoped>\n",
       "    .dataframe tbody tr th:only-of-type {\n",
       "        vertical-align: middle;\n",
       "    }\n",
       "\n",
       "    .dataframe tbody tr th {\n",
       "        vertical-align: top;\n",
       "    }\n",
       "\n",
       "    .dataframe thead th {\n",
       "        text-align: right;\n",
       "    }\n",
       "</style>\n",
       "<table border=\"1\" class=\"dataframe\">\n",
       "  <thead>\n",
       "    <tr style=\"text-align: right;\">\n",
       "      <th></th>\n",
       "      <th>Pclass</th>\n",
       "      <th>Age</th>\n",
       "      <th>Fare</th>\n",
       "      <th>size of family</th>\n",
       "      <th>is alone</th>\n",
       "      <th>Sex_female</th>\n",
       "      <th>Embarked_C</th>\n",
       "      <th>Embarked_Q</th>\n",
       "      <th>title name_ Master</th>\n",
       "      <th>title name_ Miss</th>\n",
       "      <th>title name_ Mr</th>\n",
       "      <th>title name_ Mrs</th>\n",
       "    </tr>\n",
       "  </thead>\n",
       "  <tbody>\n",
       "    <tr>\n",
       "      <th>0</th>\n",
       "      <td>3</td>\n",
       "      <td>34.5</td>\n",
       "      <td>7.8292</td>\n",
       "      <td>1</td>\n",
       "      <td>1</td>\n",
       "      <td>0</td>\n",
       "      <td>0</td>\n",
       "      <td>1</td>\n",
       "      <td>0</td>\n",
       "      <td>0</td>\n",
       "      <td>1</td>\n",
       "      <td>0</td>\n",
       "    </tr>\n",
       "    <tr>\n",
       "      <th>1</th>\n",
       "      <td>3</td>\n",
       "      <td>47.0</td>\n",
       "      <td>7.0000</td>\n",
       "      <td>2</td>\n",
       "      <td>0</td>\n",
       "      <td>1</td>\n",
       "      <td>0</td>\n",
       "      <td>0</td>\n",
       "      <td>0</td>\n",
       "      <td>0</td>\n",
       "      <td>0</td>\n",
       "      <td>1</td>\n",
       "    </tr>\n",
       "    <tr>\n",
       "      <th>2</th>\n",
       "      <td>2</td>\n",
       "      <td>62.0</td>\n",
       "      <td>9.6875</td>\n",
       "      <td>1</td>\n",
       "      <td>1</td>\n",
       "      <td>0</td>\n",
       "      <td>0</td>\n",
       "      <td>1</td>\n",
       "      <td>0</td>\n",
       "      <td>0</td>\n",
       "      <td>1</td>\n",
       "      <td>0</td>\n",
       "    </tr>\n",
       "    <tr>\n",
       "      <th>3</th>\n",
       "      <td>3</td>\n",
       "      <td>27.0</td>\n",
       "      <td>8.6625</td>\n",
       "      <td>1</td>\n",
       "      <td>1</td>\n",
       "      <td>0</td>\n",
       "      <td>0</td>\n",
       "      <td>0</td>\n",
       "      <td>0</td>\n",
       "      <td>0</td>\n",
       "      <td>1</td>\n",
       "      <td>0</td>\n",
       "    </tr>\n",
       "    <tr>\n",
       "      <th>4</th>\n",
       "      <td>3</td>\n",
       "      <td>22.0</td>\n",
       "      <td>12.2875</td>\n",
       "      <td>3</td>\n",
       "      <td>0</td>\n",
       "      <td>1</td>\n",
       "      <td>0</td>\n",
       "      <td>0</td>\n",
       "      <td>0</td>\n",
       "      <td>0</td>\n",
       "      <td>0</td>\n",
       "      <td>1</td>\n",
       "    </tr>\n",
       "  </tbody>\n",
       "</table>\n",
       "</div>"
      ],
      "text/plain": [
       "   Pclass   Age     Fare  size of family  is alone  Sex_female  Embarked_C  \\\n",
       "0       3  34.5   7.8292               1         1           0           0   \n",
       "1       3  47.0   7.0000               2         0           1           0   \n",
       "2       2  62.0   9.6875               1         1           0           0   \n",
       "3       3  27.0   8.6625               1         1           0           0   \n",
       "4       3  22.0  12.2875               3         0           1           0   \n",
       "\n",
       "   Embarked_Q  title name_ Master  title name_ Miss  title name_ Mr  \\\n",
       "0           1                   0                 0               1   \n",
       "1           0                   0                 0               0   \n",
       "2           1                   0                 0               1   \n",
       "3           0                   0                 0               1   \n",
       "4           0                   0                 0               0   \n",
       "\n",
       "   title name_ Mrs  \n",
       "0                0  \n",
       "1                1  \n",
       "2                0  \n",
       "3                0  \n",
       "4                1  "
      ]
     },
     "execution_count": 323,
     "metadata": {},
     "output_type": "execute_result"
    }
   ],
   "source": [
    "df_dummies_test.head()"
   ]
  },
  {
   "cell_type": "code",
   "execution_count": 384,
   "metadata": {},
   "outputs": [],
   "source": [
    "X_val = scaler.transform(df_dummies_test.values)\n",
    "predictions = model.predict_classes(X_val)"
   ]
  },
  {
   "cell_type": "code",
   "execution_count": 403,
   "metadata": {},
   "outputs": [],
   "source": [
    "# np.hstack(predictions)"
   ]
  },
  {
   "cell_type": "code",
   "execution_count": 404,
   "metadata": {},
   "outputs": [],
   "source": [
    "# df_test['PassengerId'].values"
   ]
  },
  {
   "cell_type": "code",
   "execution_count": 397,
   "metadata": {},
   "outputs": [],
   "source": [
    "output = pd.DataFrame(columns=['PassengerId','Survived'],data=zip(df_test['PassengerId'].values,np.hstack(predictions)))"
   ]
  },
  {
   "cell_type": "code",
   "execution_count": 398,
   "metadata": {},
   "outputs": [],
   "source": [
    "before=pd.read_csv('my_submission.csv')"
   ]
  },
  {
   "cell_type": "code",
   "execution_count": 399,
   "metadata": {},
   "outputs": [],
   "source": [
    "before.columns=['PassengerId','Survived_before']"
   ]
  },
  {
   "cell_type": "code",
   "execution_count": 400,
   "metadata": {},
   "outputs": [],
   "source": [
    "before.reset_index(inplace=True,drop=True)"
   ]
  },
  {
   "cell_type": "code",
   "execution_count": 401,
   "metadata": {},
   "outputs": [],
   "source": [
    "output.reset_index(inplace=True,drop=True)"
   ]
  },
  {
   "cell_type": "code",
   "execution_count": 406,
   "metadata": {},
   "outputs": [],
   "source": [
    "compare=pd.concat([before,output],axis=1)"
   ]
  },
  {
   "cell_type": "code",
   "execution_count": 409,
   "metadata": {},
   "outputs": [
    {
     "data": {
      "text/plain": [
       "PassengerId        35\n",
       "Survived_before    35\n",
       "PassengerId        35\n",
       "Survived           35\n",
       "dtype: int64"
      ]
     },
     "execution_count": 409,
     "metadata": {},
     "output_type": "execute_result"
    }
   ],
   "source": [
    "compare[compare['Survived_before']!=compare['Survived']].count()"
   ]
  },
  {
   "cell_type": "code",
   "execution_count": 410,
   "metadata": {},
   "outputs": [],
   "source": [
    "output.to_csv('my_submission.csv', index=False)"
   ]
  },
  {
   "cell_type": "code",
   "execution_count": null,
   "metadata": {},
   "outputs": [],
   "source": []
  }
 ],
 "metadata": {
  "kernelspec": {
   "display_name": "Python 3",
   "language": "python",
   "name": "python3"
  },
  "language_info": {
   "codemirror_mode": {
    "name": "ipython",
    "version": 3
   },
   "file_extension": ".py",
   "mimetype": "text/x-python",
   "name": "python",
   "nbconvert_exporter": "python",
   "pygments_lexer": "ipython3",
   "version": "3.7.6"
  }
 },
 "nbformat": 4,
 "nbformat_minor": 4
}
